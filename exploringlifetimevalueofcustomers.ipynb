{
 "cells": [
  {
   "cell_type": "markdown",
   "id": "be8d4c1e-f47f-4d5a-a90c-f8f39233c150",
   "metadata": {},
   "source": [
    "# Predicting Lifetime value of car insurance customers using data in the marketing database\n",
    "\n",
    "## Summary\n",
    "As a digital marketer I know that predicting the lifetime value of customers based on the initial purchase data is often worthwhile. Some customers will return their order and get a refund whilst others will become repeat purchasers. This means that some customers are worth spending more on in terms of promotions and adspend per conversion than others. The lifetime value of customers can also be fed back into Google Ads, Microsoft and Meta Ads to improve their algorithmic bidding. In this project I aim to create models to predict lifetime value using data from a car insurance customer database. The lifetime value outputs are for feeding back into the ads platforms as the conversions happen.\n",
    "\n",
    "## The data\n",
    "\n",
    "I found a dataset used in this project on Kaggle. The columns include lifetime value and other related customer data including car size, location, income and policy level. The data was originally hosted on the IBM website but the link to it has since between pullled. The link to it on Kaggle is below. \n",
    "https://www.kaggle.com/datasets/pankajjsh06/ibm-watson-marketing-customer-value-data/data\n",
    "\n",
    "## About Me and my project\n",
    "My name is Matthew Freedman I have been a digital marketer focused on Google Ads, Microsoft Ads and Meta Ads optimisation for 14 years. As the industry has changed I have looked to improve my skillset by learning about the algorithms that are running our lives and are increasing important in marketing. I chose to do the Imperial Business School professional certificate in Machine Learning and Artificial intelligence which introduced me to the field.\n",
    "\n",
    "My Linkedin is here: https://www.linkedin.com/in/matthewppc/\n",
    "\n",
    "## Shout outs\n",
    "A huge shout out to Viviana Marquez and Muhammad Ali Chaudhry who have tutored me through the course in Machine Learning and Artifical Intelligence set up by Imperial Business School."
   ]
  },
  {
   "cell_type": "markdown",
   "id": "00931e9c-1baf-40a4-a108-2eca23599d94",
   "metadata": {},
   "source": [
    "# Data Summary\n",
    "\n",
    "The data is car insurance data from the USA. It was found on Kaggle and I chose it as a good example of a data set you could use to explore lifetime value predictions."
   ]
  },
  {
   "cell_type": "code",
   "execution_count": 1,
   "id": "1119bda9-2866-4aa3-a203-7147e88580a7",
   "metadata": {},
   "outputs": [],
   "source": [
    "import numpy as np\n",
    "import pandas as pd\n",
    "import matplotlib.pyplot as plt\n",
    "import seaborn as sns\n",
    "from sklearn.model_selection import train_test_split\n",
    "from sklearn.metrics import mean_squared_error"
   ]
  },
  {
   "cell_type": "markdown",
   "id": "9c2b2a54-77e9-4417-b8cf-dc85b572b6f9",
   "metadata": {},
   "source": [
    "# 1. Data Loading"
   ]
  },
  {
   "cell_type": "code",
   "execution_count": 2,
   "id": "2dfff44a-7490-4e3f-a89b-07a57ee84a1c",
   "metadata": {},
   "outputs": [],
   "source": [
    "core_data = pd.read_csv(\"Dataset/WA_Fn-UseC_-Marketing-Customer-Value-Analysis.csv\")"
   ]
  },
  {
   "cell_type": "code",
   "execution_count": 3,
   "id": "d757df6b-dfbc-4aad-8e80-55b69a47b4c0",
   "metadata": {
    "scrolled": true
   },
   "outputs": [
    {
     "data": {
      "text/html": [
       "<div>\n",
       "<style scoped>\n",
       "    .dataframe tbody tr th:only-of-type {\n",
       "        vertical-align: middle;\n",
       "    }\n",
       "\n",
       "    .dataframe tbody tr th {\n",
       "        vertical-align: top;\n",
       "    }\n",
       "\n",
       "    .dataframe thead th {\n",
       "        text-align: right;\n",
       "    }\n",
       "</style>\n",
       "<table border=\"1\" class=\"dataframe\">\n",
       "  <thead>\n",
       "    <tr style=\"text-align: right;\">\n",
       "      <th></th>\n",
       "      <th>Customer</th>\n",
       "      <th>State</th>\n",
       "      <th>Customer Lifetime Value</th>\n",
       "      <th>Response</th>\n",
       "      <th>Coverage</th>\n",
       "      <th>Education</th>\n",
       "      <th>Effective To Date</th>\n",
       "      <th>EmploymentStatus</th>\n",
       "      <th>Gender</th>\n",
       "      <th>Income</th>\n",
       "      <th>...</th>\n",
       "      <th>Months Since Policy Inception</th>\n",
       "      <th>Number of Open Complaints</th>\n",
       "      <th>Number of Policies</th>\n",
       "      <th>Policy Type</th>\n",
       "      <th>Policy</th>\n",
       "      <th>Renew Offer Type</th>\n",
       "      <th>Sales Channel</th>\n",
       "      <th>Total Claim Amount</th>\n",
       "      <th>Vehicle Class</th>\n",
       "      <th>Vehicle Size</th>\n",
       "    </tr>\n",
       "  </thead>\n",
       "  <tbody>\n",
       "    <tr>\n",
       "      <th>0</th>\n",
       "      <td>BU79786</td>\n",
       "      <td>Washington</td>\n",
       "      <td>2763.519279</td>\n",
       "      <td>No</td>\n",
       "      <td>Basic</td>\n",
       "      <td>Bachelor</td>\n",
       "      <td>2/24/11</td>\n",
       "      <td>Employed</td>\n",
       "      <td>F</td>\n",
       "      <td>56274</td>\n",
       "      <td>...</td>\n",
       "      <td>5</td>\n",
       "      <td>0</td>\n",
       "      <td>1</td>\n",
       "      <td>Corporate Auto</td>\n",
       "      <td>Corporate L3</td>\n",
       "      <td>Offer1</td>\n",
       "      <td>Agent</td>\n",
       "      <td>384.811147</td>\n",
       "      <td>Two-Door Car</td>\n",
       "      <td>Medsize</td>\n",
       "    </tr>\n",
       "    <tr>\n",
       "      <th>1</th>\n",
       "      <td>QZ44356</td>\n",
       "      <td>Arizona</td>\n",
       "      <td>6979.535903</td>\n",
       "      <td>No</td>\n",
       "      <td>Extended</td>\n",
       "      <td>Bachelor</td>\n",
       "      <td>1/31/11</td>\n",
       "      <td>Unemployed</td>\n",
       "      <td>F</td>\n",
       "      <td>0</td>\n",
       "      <td>...</td>\n",
       "      <td>42</td>\n",
       "      <td>0</td>\n",
       "      <td>8</td>\n",
       "      <td>Personal Auto</td>\n",
       "      <td>Personal L3</td>\n",
       "      <td>Offer3</td>\n",
       "      <td>Agent</td>\n",
       "      <td>1131.464935</td>\n",
       "      <td>Four-Door Car</td>\n",
       "      <td>Medsize</td>\n",
       "    </tr>\n",
       "    <tr>\n",
       "      <th>2</th>\n",
       "      <td>AI49188</td>\n",
       "      <td>Nevada</td>\n",
       "      <td>12887.431650</td>\n",
       "      <td>No</td>\n",
       "      <td>Premium</td>\n",
       "      <td>Bachelor</td>\n",
       "      <td>2/19/11</td>\n",
       "      <td>Employed</td>\n",
       "      <td>F</td>\n",
       "      <td>48767</td>\n",
       "      <td>...</td>\n",
       "      <td>38</td>\n",
       "      <td>0</td>\n",
       "      <td>2</td>\n",
       "      <td>Personal Auto</td>\n",
       "      <td>Personal L3</td>\n",
       "      <td>Offer1</td>\n",
       "      <td>Agent</td>\n",
       "      <td>566.472247</td>\n",
       "      <td>Two-Door Car</td>\n",
       "      <td>Medsize</td>\n",
       "    </tr>\n",
       "    <tr>\n",
       "      <th>3</th>\n",
       "      <td>WW63253</td>\n",
       "      <td>California</td>\n",
       "      <td>7645.861827</td>\n",
       "      <td>No</td>\n",
       "      <td>Basic</td>\n",
       "      <td>Bachelor</td>\n",
       "      <td>1/20/11</td>\n",
       "      <td>Unemployed</td>\n",
       "      <td>M</td>\n",
       "      <td>0</td>\n",
       "      <td>...</td>\n",
       "      <td>65</td>\n",
       "      <td>0</td>\n",
       "      <td>7</td>\n",
       "      <td>Corporate Auto</td>\n",
       "      <td>Corporate L2</td>\n",
       "      <td>Offer1</td>\n",
       "      <td>Call Center</td>\n",
       "      <td>529.881344</td>\n",
       "      <td>SUV</td>\n",
       "      <td>Medsize</td>\n",
       "    </tr>\n",
       "    <tr>\n",
       "      <th>4</th>\n",
       "      <td>HB64268</td>\n",
       "      <td>Washington</td>\n",
       "      <td>2813.692575</td>\n",
       "      <td>No</td>\n",
       "      <td>Basic</td>\n",
       "      <td>Bachelor</td>\n",
       "      <td>2/3/11</td>\n",
       "      <td>Employed</td>\n",
       "      <td>M</td>\n",
       "      <td>43836</td>\n",
       "      <td>...</td>\n",
       "      <td>44</td>\n",
       "      <td>0</td>\n",
       "      <td>1</td>\n",
       "      <td>Personal Auto</td>\n",
       "      <td>Personal L1</td>\n",
       "      <td>Offer1</td>\n",
       "      <td>Agent</td>\n",
       "      <td>138.130879</td>\n",
       "      <td>Four-Door Car</td>\n",
       "      <td>Medsize</td>\n",
       "    </tr>\n",
       "    <tr>\n",
       "      <th>5</th>\n",
       "      <td>OC83172</td>\n",
       "      <td>Oregon</td>\n",
       "      <td>8256.297800</td>\n",
       "      <td>Yes</td>\n",
       "      <td>Basic</td>\n",
       "      <td>Bachelor</td>\n",
       "      <td>1/25/11</td>\n",
       "      <td>Employed</td>\n",
       "      <td>F</td>\n",
       "      <td>62902</td>\n",
       "      <td>...</td>\n",
       "      <td>94</td>\n",
       "      <td>0</td>\n",
       "      <td>2</td>\n",
       "      <td>Personal Auto</td>\n",
       "      <td>Personal L3</td>\n",
       "      <td>Offer2</td>\n",
       "      <td>Web</td>\n",
       "      <td>159.383042</td>\n",
       "      <td>Two-Door Car</td>\n",
       "      <td>Medsize</td>\n",
       "    </tr>\n",
       "    <tr>\n",
       "      <th>6</th>\n",
       "      <td>XZ87318</td>\n",
       "      <td>Oregon</td>\n",
       "      <td>5380.898636</td>\n",
       "      <td>Yes</td>\n",
       "      <td>Basic</td>\n",
       "      <td>College</td>\n",
       "      <td>2/24/11</td>\n",
       "      <td>Employed</td>\n",
       "      <td>F</td>\n",
       "      <td>55350</td>\n",
       "      <td>...</td>\n",
       "      <td>13</td>\n",
       "      <td>0</td>\n",
       "      <td>9</td>\n",
       "      <td>Corporate Auto</td>\n",
       "      <td>Corporate L3</td>\n",
       "      <td>Offer1</td>\n",
       "      <td>Agent</td>\n",
       "      <td>321.600000</td>\n",
       "      <td>Four-Door Car</td>\n",
       "      <td>Medsize</td>\n",
       "    </tr>\n",
       "    <tr>\n",
       "      <th>7</th>\n",
       "      <td>CF85061</td>\n",
       "      <td>Arizona</td>\n",
       "      <td>7216.100311</td>\n",
       "      <td>No</td>\n",
       "      <td>Premium</td>\n",
       "      <td>Master</td>\n",
       "      <td>1/18/11</td>\n",
       "      <td>Unemployed</td>\n",
       "      <td>M</td>\n",
       "      <td>0</td>\n",
       "      <td>...</td>\n",
       "      <td>68</td>\n",
       "      <td>0</td>\n",
       "      <td>4</td>\n",
       "      <td>Corporate Auto</td>\n",
       "      <td>Corporate L3</td>\n",
       "      <td>Offer1</td>\n",
       "      <td>Agent</td>\n",
       "      <td>363.029680</td>\n",
       "      <td>Four-Door Car</td>\n",
       "      <td>Medsize</td>\n",
       "    </tr>\n",
       "    <tr>\n",
       "      <th>8</th>\n",
       "      <td>DY87989</td>\n",
       "      <td>Oregon</td>\n",
       "      <td>24127.504020</td>\n",
       "      <td>Yes</td>\n",
       "      <td>Basic</td>\n",
       "      <td>Bachelor</td>\n",
       "      <td>1/26/11</td>\n",
       "      <td>Medical Leave</td>\n",
       "      <td>M</td>\n",
       "      <td>14072</td>\n",
       "      <td>...</td>\n",
       "      <td>3</td>\n",
       "      <td>0</td>\n",
       "      <td>2</td>\n",
       "      <td>Corporate Auto</td>\n",
       "      <td>Corporate L3</td>\n",
       "      <td>Offer1</td>\n",
       "      <td>Agent</td>\n",
       "      <td>511.200000</td>\n",
       "      <td>Four-Door Car</td>\n",
       "      <td>Medsize</td>\n",
       "    </tr>\n",
       "    <tr>\n",
       "      <th>9</th>\n",
       "      <td>BQ94931</td>\n",
       "      <td>Oregon</td>\n",
       "      <td>7388.178085</td>\n",
       "      <td>No</td>\n",
       "      <td>Extended</td>\n",
       "      <td>College</td>\n",
       "      <td>2/17/11</td>\n",
       "      <td>Employed</td>\n",
       "      <td>F</td>\n",
       "      <td>28812</td>\n",
       "      <td>...</td>\n",
       "      <td>7</td>\n",
       "      <td>0</td>\n",
       "      <td>8</td>\n",
       "      <td>Special Auto</td>\n",
       "      <td>Special L2</td>\n",
       "      <td>Offer2</td>\n",
       "      <td>Branch</td>\n",
       "      <td>425.527834</td>\n",
       "      <td>Four-Door Car</td>\n",
       "      <td>Medsize</td>\n",
       "    </tr>\n",
       "  </tbody>\n",
       "</table>\n",
       "<p>10 rows × 24 columns</p>\n",
       "</div>"
      ],
      "text/plain": [
       "  Customer       State  Customer Lifetime Value Response  Coverage Education  \\\n",
       "0  BU79786  Washington              2763.519279       No     Basic  Bachelor   \n",
       "1  QZ44356     Arizona              6979.535903       No  Extended  Bachelor   \n",
       "2  AI49188      Nevada             12887.431650       No   Premium  Bachelor   \n",
       "3  WW63253  California              7645.861827       No     Basic  Bachelor   \n",
       "4  HB64268  Washington              2813.692575       No     Basic  Bachelor   \n",
       "5  OC83172      Oregon              8256.297800      Yes     Basic  Bachelor   \n",
       "6  XZ87318      Oregon              5380.898636      Yes     Basic   College   \n",
       "7  CF85061     Arizona              7216.100311       No   Premium    Master   \n",
       "8  DY87989      Oregon             24127.504020      Yes     Basic  Bachelor   \n",
       "9  BQ94931      Oregon              7388.178085       No  Extended   College   \n",
       "\n",
       "  Effective To Date EmploymentStatus Gender  Income  ...  \\\n",
       "0           2/24/11         Employed      F   56274  ...   \n",
       "1           1/31/11       Unemployed      F       0  ...   \n",
       "2           2/19/11         Employed      F   48767  ...   \n",
       "3           1/20/11       Unemployed      M       0  ...   \n",
       "4            2/3/11         Employed      M   43836  ...   \n",
       "5           1/25/11         Employed      F   62902  ...   \n",
       "6           2/24/11         Employed      F   55350  ...   \n",
       "7           1/18/11       Unemployed      M       0  ...   \n",
       "8           1/26/11    Medical Leave      M   14072  ...   \n",
       "9           2/17/11         Employed      F   28812  ...   \n",
       "\n",
       "  Months Since Policy Inception Number of Open Complaints  Number of Policies  \\\n",
       "0                             5                         0                   1   \n",
       "1                            42                         0                   8   \n",
       "2                            38                         0                   2   \n",
       "3                            65                         0                   7   \n",
       "4                            44                         0                   1   \n",
       "5                            94                         0                   2   \n",
       "6                            13                         0                   9   \n",
       "7                            68                         0                   4   \n",
       "8                             3                         0                   2   \n",
       "9                             7                         0                   8   \n",
       "\n",
       "      Policy Type        Policy  Renew Offer Type  Sales Channel  \\\n",
       "0  Corporate Auto  Corporate L3            Offer1          Agent   \n",
       "1   Personal Auto   Personal L3            Offer3          Agent   \n",
       "2   Personal Auto   Personal L3            Offer1          Agent   \n",
       "3  Corporate Auto  Corporate L2            Offer1    Call Center   \n",
       "4   Personal Auto   Personal L1            Offer1          Agent   \n",
       "5   Personal Auto   Personal L3            Offer2            Web   \n",
       "6  Corporate Auto  Corporate L3            Offer1          Agent   \n",
       "7  Corporate Auto  Corporate L3            Offer1          Agent   \n",
       "8  Corporate Auto  Corporate L3            Offer1          Agent   \n",
       "9    Special Auto    Special L2            Offer2         Branch   \n",
       "\n",
       "  Total Claim Amount  Vehicle Class Vehicle Size  \n",
       "0         384.811147   Two-Door Car      Medsize  \n",
       "1        1131.464935  Four-Door Car      Medsize  \n",
       "2         566.472247   Two-Door Car      Medsize  \n",
       "3         529.881344            SUV      Medsize  \n",
       "4         138.130879  Four-Door Car      Medsize  \n",
       "5         159.383042   Two-Door Car      Medsize  \n",
       "6         321.600000  Four-Door Car      Medsize  \n",
       "7         363.029680  Four-Door Car      Medsize  \n",
       "8         511.200000  Four-Door Car      Medsize  \n",
       "9         425.527834  Four-Door Car      Medsize  \n",
       "\n",
       "[10 rows x 24 columns]"
      ]
     },
     "execution_count": 3,
     "metadata": {},
     "output_type": "execute_result"
    }
   ],
   "source": [
    "core_data.head(10)"
   ]
  },
  {
   "cell_type": "markdown",
   "id": "94d3c32b-8263-4d66-a0e4-3a520c51f469",
   "metadata": {},
   "source": [
    "# 2. Exploratory Data Analysis"
   ]
  },
  {
   "cell_type": "code",
   "execution_count": 4,
   "id": "32705166-0e64-4d10-ad32-4ba7a937c5e6",
   "metadata": {},
   "outputs": [
    {
     "name": "stdout",
     "output_type": "stream",
     "text": [
      "<class 'pandas.core.frame.DataFrame'>\n",
      "RangeIndex: 9134 entries, 0 to 9133\n",
      "Data columns (total 24 columns):\n",
      " #   Column                         Non-Null Count  Dtype  \n",
      "---  ------                         --------------  -----  \n",
      " 0   Customer                       9134 non-null   object \n",
      " 1   State                          9134 non-null   object \n",
      " 2   Customer Lifetime Value        9134 non-null   float64\n",
      " 3   Response                       9134 non-null   object \n",
      " 4   Coverage                       9134 non-null   object \n",
      " 5   Education                      9134 non-null   object \n",
      " 6   Effective To Date              9134 non-null   object \n",
      " 7   EmploymentStatus               9134 non-null   object \n",
      " 8   Gender                         9134 non-null   object \n",
      " 9   Income                         9134 non-null   int64  \n",
      " 10  Location Code                  9134 non-null   object \n",
      " 11  Marital Status                 9134 non-null   object \n",
      " 12  Monthly Premium Auto           9134 non-null   int64  \n",
      " 13  Months Since Last Claim        9134 non-null   int64  \n",
      " 14  Months Since Policy Inception  9134 non-null   int64  \n",
      " 15  Number of Open Complaints      9134 non-null   int64  \n",
      " 16  Number of Policies             9134 non-null   int64  \n",
      " 17  Policy Type                    9134 non-null   object \n",
      " 18  Policy                         9134 non-null   object \n",
      " 19  Renew Offer Type               9134 non-null   object \n",
      " 20  Sales Channel                  9134 non-null   object \n",
      " 21  Total Claim Amount             9134 non-null   float64\n",
      " 22  Vehicle Class                  9134 non-null   object \n",
      " 23  Vehicle Size                   9134 non-null   object \n",
      "dtypes: float64(2), int64(6), object(16)\n",
      "memory usage: 1.7+ MB\n"
     ]
    }
   ],
   "source": [
    "## Lets do some initial exploration\n",
    "core_data.info()"
   ]
  },
  {
   "cell_type": "markdown",
   "id": "f876f59c-4fdb-403a-9920-55be36a8874b",
   "metadata": {},
   "source": [
    "There are 23 columns each with 9134 rows. Lets looking into the numeric columns"
   ]
  },
  {
   "cell_type": "code",
   "execution_count": 5,
   "id": "f3501972-798a-4678-b72c-ece7b7184781",
   "metadata": {},
   "outputs": [
    {
     "name": "stdout",
     "output_type": "stream",
     "text": [
      "There are these 8 numeric columns, lets explore the data more\n"
     ]
    }
   ],
   "source": [
    "numeric_data =  core_data.select_dtypes(include=[\"number\"])\n",
    "print(\"There are these\", len(numeric_data.columns), \"numeric columns, lets explore the data more\")"
   ]
  },
  {
   "cell_type": "code",
   "execution_count": 6,
   "id": "94e8071b-aa2c-4868-8f26-7d7e2337db46",
   "metadata": {},
   "outputs": [
    {
     "name": "stdout",
     "output_type": "stream",
     "text": [
      "The columns are Index(['Customer Lifetime Value', 'Income', 'Monthly Premium Auto',\n",
      "       'Months Since Last Claim', 'Months Since Policy Inception',\n",
      "       'Number of Open Complaints', 'Number of Policies',\n",
      "       'Total Claim Amount'],\n",
      "      dtype='object')\n"
     ]
    }
   ],
   "source": [
    "print(\"The columns are\",numeric_data.columns)"
   ]
  },
  {
   "cell_type": "code",
   "execution_count": 7,
   "id": "fc866a65-a52d-48b0-ad59-6bf0071fe375",
   "metadata": {},
   "outputs": [
    {
     "data": {
      "text/html": [
       "<div>\n",
       "<style scoped>\n",
       "    .dataframe tbody tr th:only-of-type {\n",
       "        vertical-align: middle;\n",
       "    }\n",
       "\n",
       "    .dataframe tbody tr th {\n",
       "        vertical-align: top;\n",
       "    }\n",
       "\n",
       "    .dataframe thead th {\n",
       "        text-align: right;\n",
       "    }\n",
       "</style>\n",
       "<table border=\"1\" class=\"dataframe\">\n",
       "  <thead>\n",
       "    <tr style=\"text-align: right;\">\n",
       "      <th></th>\n",
       "      <th>Customer Lifetime Value</th>\n",
       "      <th>Income</th>\n",
       "      <th>Monthly Premium Auto</th>\n",
       "      <th>Months Since Last Claim</th>\n",
       "      <th>Months Since Policy Inception</th>\n",
       "      <th>Number of Open Complaints</th>\n",
       "      <th>Number of Policies</th>\n",
       "      <th>Total Claim Amount</th>\n",
       "    </tr>\n",
       "  </thead>\n",
       "  <tbody>\n",
       "    <tr>\n",
       "      <th>count</th>\n",
       "      <td>9134.00</td>\n",
       "      <td>9134.00</td>\n",
       "      <td>9134.00</td>\n",
       "      <td>9134.00</td>\n",
       "      <td>9134.00</td>\n",
       "      <td>9134.00</td>\n",
       "      <td>9134.00</td>\n",
       "      <td>9134.00</td>\n",
       "    </tr>\n",
       "    <tr>\n",
       "      <th>mean</th>\n",
       "      <td>8004.94</td>\n",
       "      <td>37657.38</td>\n",
       "      <td>93.22</td>\n",
       "      <td>15.10</td>\n",
       "      <td>48.06</td>\n",
       "      <td>0.38</td>\n",
       "      <td>2.97</td>\n",
       "      <td>434.09</td>\n",
       "    </tr>\n",
       "    <tr>\n",
       "      <th>std</th>\n",
       "      <td>6870.97</td>\n",
       "      <td>30379.90</td>\n",
       "      <td>34.41</td>\n",
       "      <td>10.07</td>\n",
       "      <td>27.91</td>\n",
       "      <td>0.91</td>\n",
       "      <td>2.39</td>\n",
       "      <td>290.50</td>\n",
       "    </tr>\n",
       "    <tr>\n",
       "      <th>min</th>\n",
       "      <td>1898.01</td>\n",
       "      <td>0.00</td>\n",
       "      <td>61.00</td>\n",
       "      <td>0.00</td>\n",
       "      <td>0.00</td>\n",
       "      <td>0.00</td>\n",
       "      <td>1.00</td>\n",
       "      <td>0.10</td>\n",
       "    </tr>\n",
       "    <tr>\n",
       "      <th>25%</th>\n",
       "      <td>3994.25</td>\n",
       "      <td>0.00</td>\n",
       "      <td>68.00</td>\n",
       "      <td>6.00</td>\n",
       "      <td>24.00</td>\n",
       "      <td>0.00</td>\n",
       "      <td>1.00</td>\n",
       "      <td>272.26</td>\n",
       "    </tr>\n",
       "    <tr>\n",
       "      <th>50%</th>\n",
       "      <td>5780.18</td>\n",
       "      <td>33889.50</td>\n",
       "      <td>83.00</td>\n",
       "      <td>14.00</td>\n",
       "      <td>48.00</td>\n",
       "      <td>0.00</td>\n",
       "      <td>2.00</td>\n",
       "      <td>383.95</td>\n",
       "    </tr>\n",
       "    <tr>\n",
       "      <th>75%</th>\n",
       "      <td>8962.17</td>\n",
       "      <td>62320.00</td>\n",
       "      <td>109.00</td>\n",
       "      <td>23.00</td>\n",
       "      <td>71.00</td>\n",
       "      <td>0.00</td>\n",
       "      <td>4.00</td>\n",
       "      <td>547.51</td>\n",
       "    </tr>\n",
       "    <tr>\n",
       "      <th>max</th>\n",
       "      <td>83325.38</td>\n",
       "      <td>99981.00</td>\n",
       "      <td>298.00</td>\n",
       "      <td>35.00</td>\n",
       "      <td>99.00</td>\n",
       "      <td>5.00</td>\n",
       "      <td>9.00</td>\n",
       "      <td>2893.24</td>\n",
       "    </tr>\n",
       "  </tbody>\n",
       "</table>\n",
       "</div>"
      ],
      "text/plain": [
       "       Customer Lifetime Value    Income  Monthly Premium Auto  \\\n",
       "count                  9134.00   9134.00               9134.00   \n",
       "mean                   8004.94  37657.38                 93.22   \n",
       "std                    6870.97  30379.90                 34.41   \n",
       "min                    1898.01      0.00                 61.00   \n",
       "25%                    3994.25      0.00                 68.00   \n",
       "50%                    5780.18  33889.50                 83.00   \n",
       "75%                    8962.17  62320.00                109.00   \n",
       "max                   83325.38  99981.00                298.00   \n",
       "\n",
       "       Months Since Last Claim  Months Since Policy Inception  \\\n",
       "count                  9134.00                        9134.00   \n",
       "mean                     15.10                          48.06   \n",
       "std                      10.07                          27.91   \n",
       "min                       0.00                           0.00   \n",
       "25%                       6.00                          24.00   \n",
       "50%                      14.00                          48.00   \n",
       "75%                      23.00                          71.00   \n",
       "max                      35.00                          99.00   \n",
       "\n",
       "       Number of Open Complaints  Number of Policies  Total Claim Amount  \n",
       "count                    9134.00             9134.00             9134.00  \n",
       "mean                        0.38                2.97              434.09  \n",
       "std                         0.91                2.39              290.50  \n",
       "min                         0.00                1.00                0.10  \n",
       "25%                         0.00                1.00              272.26  \n",
       "50%                         0.00                2.00              383.95  \n",
       "75%                         0.00                4.00              547.51  \n",
       "max                         5.00                9.00             2893.24  "
      ]
     },
     "execution_count": 7,
     "metadata": {},
     "output_type": "execute_result"
    }
   ],
   "source": [
    "numeric_data.describe().round(2)"
   ]
  },
  {
   "cell_type": "markdown",
   "id": "4e2787e1-aea7-4ff5-807c-7cbe995868a6",
   "metadata": {},
   "source": [
    "#### Now lets look at the correlation of the lifetime value vs numeric fields"
   ]
  },
  {
   "cell_type": "code",
   "execution_count": 8,
   "id": "fbc4294d-9901-44a2-bcd3-aa9aac41ad18",
   "metadata": {},
   "outputs": [
    {
     "data": {
      "image/png": "[encoded data removed]",
      "text/plain": [
       "<Figure size 600x500 with 2 Axes>"
      ]
     },
     "metadata": {},
     "output_type": "display_data"
    }
   ],
   "source": [
    "numeric_data_corr = numeric_data.corr().round(2)\n",
    "plt.figure(figsize = (6,5))\n",
    "sns.heatmap(numeric_data_corr, cmap = 'coolwarm',annot = True)\n",
    "plt.title(\"Correlation by numeric column\")\n",
    "plt.show()"
   ]
  },
  {
   "cell_type": "markdown",
   "id": "31f95ce9-c343-46ab-b93b-278d7882ddef",
   "metadata": {},
   "source": [
    "From the correlation chart above I can see that Monthly Premium Auto is the most correleated factor to Customer Lifetime Value with a 40% positive correlation. I can also see that the Total Claim Amount is correlated positively at 23% however Total Claim Amount wouldn't be known to the insurer at the time of transaction, unless the customer was an existing one adding an additional policy. Therefore I will be removing that column from the data when building the model"
   ]
  },
  {
   "cell_type": "markdown",
   "id": "7958be5f-4bfa-4021-9067-786a9a41aaaa",
   "metadata": {},
   "source": [
    "##### Now lets look at the object/string/text columns"
   ]
  },
  {
   "cell_type": "code",
   "execution_count": 9,
   "id": "9985e361-4aad-476f-a0fd-693cd45abf75",
   "metadata": {},
   "outputs": [
    {
     "name": "stdout",
     "output_type": "stream",
     "text": [
      "There are 16 text columns\n"
     ]
    }
   ],
   "source": [
    "text_data = core_data.select_dtypes(include = [\"object\",\"string\"])\n",
    "print(\"There are\", len(text_data.columns), \"text columns\")"
   ]
  },
  {
   "cell_type": "code",
   "execution_count": 10,
   "id": "0fc0fc21-39e6-46be-b2c8-98a49de174ca",
   "metadata": {},
   "outputs": [
    {
     "name": "stdout",
     "output_type": "stream",
     "text": [
      "The columns are Index(['Customer', 'State', 'Response', 'Coverage', 'Education',\n",
      "       'Effective To Date', 'EmploymentStatus', 'Gender', 'Location Code',\n",
      "       'Marital Status', 'Policy Type', 'Policy', 'Renew Offer Type',\n",
      "       'Sales Channel', 'Vehicle Class', 'Vehicle Size'],\n",
      "      dtype='object')\n"
     ]
    }
   ],
   "source": [
    "print(\"The columns are\", text_data.columns)"
   ]
  },
  {
   "cell_type": "code",
   "execution_count": 13,
   "id": "068352ac-ce36-41b1-97d1-a0a4626dab3c",
   "metadata": {},
   "outputs": [
    {
     "name": "stdout",
     "output_type": "stream",
     "text": [
      "The number of unique values in Customer is 9134\n",
      "The number of unique values in State is 5\n",
      "The number of unique values in Response is 2\n",
      "The number of unique values in Coverage is 3\n",
      "The number of unique values in Education is 5\n",
      "The number of unique values in Effective To Date is 59\n",
      "The number of unique values in EmploymentStatus is 5\n",
      "The number of unique values in Gender is 2\n",
      "The number of unique values in Location Code is 3\n",
      "The number of unique values in Marital Status is 3\n",
      "The number of unique values in Policy Type is 3\n",
      "The number of unique values in Policy is 9\n",
      "The number of unique values in Renew Offer Type is 4\n",
      "The number of unique values in Sales Channel is 4\n",
      "The number of unique values in Vehicle Class is 6\n",
      "The number of unique values in Vehicle Size is 3\n"
     ]
    }
   ],
   "source": [
    "# Lets looking at how many unique values each text column has\n",
    "for i in text_data.columns:\n",
    "    get_columns = text_data[i]\n",
    "    print(\"The number of unique values in\", i,\"is\", get_columns.nunique())  "
   ]
  },
  {
   "cell_type": "code",
   "execution_count": 14,
   "id": "eeff5396-90d0-4e2c-9101-b2e665a00179",
   "metadata": {},
   "outputs": [
    {
     "data": {
      "text/plain": [
       "Index(['Income', 'Monthly Premium Auto', 'Months Since Last Claim',\n",
       "       'Months Since Policy Inception', 'Number of Open Complaints',\n",
       "       'Number of Policies', 'Total Claim Amount'],\n",
       "      dtype='object')"
      ]
     },
     "execution_count": 14,
     "metadata": {},
     "output_type": "execute_result"
    }
   ],
   "source": [
    "numeric_columns = numeric_data.columns\n",
    "numeric_wo_ltv_columns = numeric_columns.drop([\"Customer Lifetime Value\"])\n",
    "numeric_wo_ltv_columns"
   ]
  },
  {
   "cell_type": "code",
   "execution_count": 15,
   "id": "60ae4e16-6ce5-4b0d-a149-209af58b7510",
   "metadata": {},
   "outputs": [
    {
     "data": {
      "text/html": [
       "<div>\n",
       "<style scoped>\n",
       "    .dataframe tbody tr th:only-of-type {\n",
       "        vertical-align: middle;\n",
       "    }\n",
       "\n",
       "    .dataframe tbody tr th {\n",
       "        vertical-align: top;\n",
       "    }\n",
       "\n",
       "    .dataframe thead th {\n",
       "        text-align: right;\n",
       "    }\n",
       "</style>\n",
       "<table border=\"1\" class=\"dataframe\">\n",
       "  <thead>\n",
       "    <tr style=\"text-align: right;\">\n",
       "      <th></th>\n",
       "      <th>Customer Lifetime Value</th>\n",
       "      <th>State_Arizona</th>\n",
       "      <th>State_California</th>\n",
       "      <th>State_Nevada</th>\n",
       "      <th>State_Oregon</th>\n",
       "      <th>State_Washington</th>\n",
       "      <th>Response_No</th>\n",
       "      <th>Response_Yes</th>\n",
       "      <th>Coverage_Basic</th>\n",
       "      <th>Coverage_Extended</th>\n",
       "      <th>...</th>\n",
       "      <th>Sales Channel_Web</th>\n",
       "      <th>Vehicle Class_Four-Door Car</th>\n",
       "      <th>Vehicle Class_Luxury Car</th>\n",
       "      <th>Vehicle Class_Luxury SUV</th>\n",
       "      <th>Vehicle Class_SUV</th>\n",
       "      <th>Vehicle Class_Sports Car</th>\n",
       "      <th>Vehicle Class_Two-Door Car</th>\n",
       "      <th>Vehicle Size_Large</th>\n",
       "      <th>Vehicle Size_Medsize</th>\n",
       "      <th>Vehicle Size_Small</th>\n",
       "    </tr>\n",
       "  </thead>\n",
       "  <tbody>\n",
       "    <tr>\n",
       "      <th>0</th>\n",
       "      <td>2763.519279</td>\n",
       "      <td>False</td>\n",
       "      <td>False</td>\n",
       "      <td>False</td>\n",
       "      <td>False</td>\n",
       "      <td>True</td>\n",
       "      <td>True</td>\n",
       "      <td>False</td>\n",
       "      <td>True</td>\n",
       "      <td>False</td>\n",
       "      <td>...</td>\n",
       "      <td>False</td>\n",
       "      <td>False</td>\n",
       "      <td>False</td>\n",
       "      <td>False</td>\n",
       "      <td>False</td>\n",
       "      <td>False</td>\n",
       "      <td>True</td>\n",
       "      <td>False</td>\n",
       "      <td>True</td>\n",
       "      <td>False</td>\n",
       "    </tr>\n",
       "    <tr>\n",
       "      <th>1</th>\n",
       "      <td>6979.535903</td>\n",
       "      <td>True</td>\n",
       "      <td>False</td>\n",
       "      <td>False</td>\n",
       "      <td>False</td>\n",
       "      <td>False</td>\n",
       "      <td>True</td>\n",
       "      <td>False</td>\n",
       "      <td>False</td>\n",
       "      <td>True</td>\n",
       "      <td>...</td>\n",
       "      <td>False</td>\n",
       "      <td>True</td>\n",
       "      <td>False</td>\n",
       "      <td>False</td>\n",
       "      <td>False</td>\n",
       "      <td>False</td>\n",
       "      <td>False</td>\n",
       "      <td>False</td>\n",
       "      <td>True</td>\n",
       "      <td>False</td>\n",
       "    </tr>\n",
       "    <tr>\n",
       "      <th>2</th>\n",
       "      <td>12887.431650</td>\n",
       "      <td>False</td>\n",
       "      <td>False</td>\n",
       "      <td>True</td>\n",
       "      <td>False</td>\n",
       "      <td>False</td>\n",
       "      <td>True</td>\n",
       "      <td>False</td>\n",
       "      <td>False</td>\n",
       "      <td>False</td>\n",
       "      <td>...</td>\n",
       "      <td>False</td>\n",
       "      <td>False</td>\n",
       "      <td>False</td>\n",
       "      <td>False</td>\n",
       "      <td>False</td>\n",
       "      <td>False</td>\n",
       "      <td>True</td>\n",
       "      <td>False</td>\n",
       "      <td>True</td>\n",
       "      <td>False</td>\n",
       "    </tr>\n",
       "    <tr>\n",
       "      <th>3</th>\n",
       "      <td>7645.861827</td>\n",
       "      <td>False</td>\n",
       "      <td>True</td>\n",
       "      <td>False</td>\n",
       "      <td>False</td>\n",
       "      <td>False</td>\n",
       "      <td>True</td>\n",
       "      <td>False</td>\n",
       "      <td>True</td>\n",
       "      <td>False</td>\n",
       "      <td>...</td>\n",
       "      <td>False</td>\n",
       "      <td>False</td>\n",
       "      <td>False</td>\n",
       "      <td>False</td>\n",
       "      <td>True</td>\n",
       "      <td>False</td>\n",
       "      <td>False</td>\n",
       "      <td>False</td>\n",
       "      <td>True</td>\n",
       "      <td>False</td>\n",
       "    </tr>\n",
       "    <tr>\n",
       "      <th>4</th>\n",
       "      <td>2813.692575</td>\n",
       "      <td>False</td>\n",
       "      <td>False</td>\n",
       "      <td>False</td>\n",
       "      <td>False</td>\n",
       "      <td>True</td>\n",
       "      <td>True</td>\n",
       "      <td>False</td>\n",
       "      <td>True</td>\n",
       "      <td>False</td>\n",
       "      <td>...</td>\n",
       "      <td>False</td>\n",
       "      <td>True</td>\n",
       "      <td>False</td>\n",
       "      <td>False</td>\n",
       "      <td>False</td>\n",
       "      <td>False</td>\n",
       "      <td>False</td>\n",
       "      <td>False</td>\n",
       "      <td>True</td>\n",
       "      <td>False</td>\n",
       "    </tr>\n",
       "    <tr>\n",
       "      <th>...</th>\n",
       "      <td>...</td>\n",
       "      <td>...</td>\n",
       "      <td>...</td>\n",
       "      <td>...</td>\n",
       "      <td>...</td>\n",
       "      <td>...</td>\n",
       "      <td>...</td>\n",
       "      <td>...</td>\n",
       "      <td>...</td>\n",
       "      <td>...</td>\n",
       "      <td>...</td>\n",
       "      <td>...</td>\n",
       "      <td>...</td>\n",
       "      <td>...</td>\n",
       "      <td>...</td>\n",
       "      <td>...</td>\n",
       "      <td>...</td>\n",
       "      <td>...</td>\n",
       "      <td>...</td>\n",
       "      <td>...</td>\n",
       "      <td>...</td>\n",
       "    </tr>\n",
       "    <tr>\n",
       "      <th>9129</th>\n",
       "      <td>23405.987980</td>\n",
       "      <td>False</td>\n",
       "      <td>True</td>\n",
       "      <td>False</td>\n",
       "      <td>False</td>\n",
       "      <td>False</td>\n",
       "      <td>True</td>\n",
       "      <td>False</td>\n",
       "      <td>True</td>\n",
       "      <td>False</td>\n",
       "      <td>...</td>\n",
       "      <td>True</td>\n",
       "      <td>True</td>\n",
       "      <td>False</td>\n",
       "      <td>False</td>\n",
       "      <td>False</td>\n",
       "      <td>False</td>\n",
       "      <td>False</td>\n",
       "      <td>False</td>\n",
       "      <td>True</td>\n",
       "      <td>False</td>\n",
       "    </tr>\n",
       "    <tr>\n",
       "      <th>9130</th>\n",
       "      <td>3096.511217</td>\n",
       "      <td>False</td>\n",
       "      <td>True</td>\n",
       "      <td>False</td>\n",
       "      <td>False</td>\n",
       "      <td>False</td>\n",
       "      <td>False</td>\n",
       "      <td>True</td>\n",
       "      <td>False</td>\n",
       "      <td>True</td>\n",
       "      <td>...</td>\n",
       "      <td>False</td>\n",
       "      <td>True</td>\n",
       "      <td>False</td>\n",
       "      <td>False</td>\n",
       "      <td>False</td>\n",
       "      <td>False</td>\n",
       "      <td>False</td>\n",
       "      <td>False</td>\n",
       "      <td>True</td>\n",
       "      <td>False</td>\n",
       "    </tr>\n",
       "    <tr>\n",
       "      <th>9131</th>\n",
       "      <td>8163.890428</td>\n",
       "      <td>False</td>\n",
       "      <td>True</td>\n",
       "      <td>False</td>\n",
       "      <td>False</td>\n",
       "      <td>False</td>\n",
       "      <td>True</td>\n",
       "      <td>False</td>\n",
       "      <td>False</td>\n",
       "      <td>True</td>\n",
       "      <td>...</td>\n",
       "      <td>False</td>\n",
       "      <td>True</td>\n",
       "      <td>False</td>\n",
       "      <td>False</td>\n",
       "      <td>False</td>\n",
       "      <td>False</td>\n",
       "      <td>False</td>\n",
       "      <td>False</td>\n",
       "      <td>True</td>\n",
       "      <td>False</td>\n",
       "    </tr>\n",
       "    <tr>\n",
       "      <th>9132</th>\n",
       "      <td>7524.442436</td>\n",
       "      <td>False</td>\n",
       "      <td>True</td>\n",
       "      <td>False</td>\n",
       "      <td>False</td>\n",
       "      <td>False</td>\n",
       "      <td>True</td>\n",
       "      <td>False</td>\n",
       "      <td>False</td>\n",
       "      <td>True</td>\n",
       "      <td>...</td>\n",
       "      <td>False</td>\n",
       "      <td>True</td>\n",
       "      <td>False</td>\n",
       "      <td>False</td>\n",
       "      <td>False</td>\n",
       "      <td>False</td>\n",
       "      <td>False</td>\n",
       "      <td>True</td>\n",
       "      <td>False</td>\n",
       "      <td>False</td>\n",
       "    </tr>\n",
       "    <tr>\n",
       "      <th>9133</th>\n",
       "      <td>2611.836866</td>\n",
       "      <td>False</td>\n",
       "      <td>True</td>\n",
       "      <td>False</td>\n",
       "      <td>False</td>\n",
       "      <td>False</td>\n",
       "      <td>True</td>\n",
       "      <td>False</td>\n",
       "      <td>False</td>\n",
       "      <td>True</td>\n",
       "      <td>...</td>\n",
       "      <td>False</td>\n",
       "      <td>False</td>\n",
       "      <td>False</td>\n",
       "      <td>False</td>\n",
       "      <td>False</td>\n",
       "      <td>False</td>\n",
       "      <td>True</td>\n",
       "      <td>False</td>\n",
       "      <td>True</td>\n",
       "      <td>False</td>\n",
       "    </tr>\n",
       "  </tbody>\n",
       "</table>\n",
       "<p>9134 rows × 117 columns</p>\n",
       "</div>"
      ],
      "text/plain": [
       "      Customer Lifetime Value  State_Arizona  State_California  State_Nevada  \\\n",
       "0                 2763.519279          False             False         False   \n",
       "1                 6979.535903           True             False         False   \n",
       "2                12887.431650          False             False          True   \n",
       "3                 7645.861827          False              True         False   \n",
       "4                 2813.692575          False             False         False   \n",
       "...                       ...            ...               ...           ...   \n",
       "9129             23405.987980          False              True         False   \n",
       "9130              3096.511217          False              True         False   \n",
       "9131              8163.890428          False              True         False   \n",
       "9132              7524.442436          False              True         False   \n",
       "9133              2611.836866          False              True         False   \n",
       "\n",
       "      State_Oregon  State_Washington  Response_No  Response_Yes  \\\n",
       "0            False              True         True         False   \n",
       "1            False             False         True         False   \n",
       "2            False             False         True         False   \n",
       "3            False             False         True         False   \n",
       "4            False              True         True         False   \n",
       "...            ...               ...          ...           ...   \n",
       "9129         False             False         True         False   \n",
       "9130         False             False        False          True   \n",
       "9131         False             False         True         False   \n",
       "9132         False             False         True         False   \n",
       "9133         False             False         True         False   \n",
       "\n",
       "      Coverage_Basic  Coverage_Extended  ...  Sales Channel_Web  \\\n",
       "0               True              False  ...              False   \n",
       "1              False               True  ...              False   \n",
       "2              False              False  ...              False   \n",
       "3               True              False  ...              False   \n",
       "4               True              False  ...              False   \n",
       "...              ...                ...  ...                ...   \n",
       "9129            True              False  ...               True   \n",
       "9130           False               True  ...              False   \n",
       "9131           False               True  ...              False   \n",
       "9132           False               True  ...              False   \n",
       "9133           False               True  ...              False   \n",
       "\n",
       "      Vehicle Class_Four-Door Car  Vehicle Class_Luxury Car  \\\n",
       "0                           False                     False   \n",
       "1                            True                     False   \n",
       "2                           False                     False   \n",
       "3                           False                     False   \n",
       "4                            True                     False   \n",
       "...                           ...                       ...   \n",
       "9129                         True                     False   \n",
       "9130                         True                     False   \n",
       "9131                         True                     False   \n",
       "9132                         True                     False   \n",
       "9133                        False                     False   \n",
       "\n",
       "      Vehicle Class_Luxury SUV  Vehicle Class_SUV  Vehicle Class_Sports Car  \\\n",
       "0                        False              False                     False   \n",
       "1                        False              False                     False   \n",
       "2                        False              False                     False   \n",
       "3                        False               True                     False   \n",
       "4                        False              False                     False   \n",
       "...                        ...                ...                       ...   \n",
       "9129                     False              False                     False   \n",
       "9130                     False              False                     False   \n",
       "9131                     False              False                     False   \n",
       "9132                     False              False                     False   \n",
       "9133                     False              False                     False   \n",
       "\n",
       "      Vehicle Class_Two-Door Car  Vehicle Size_Large  Vehicle Size_Medsize  \\\n",
       "0                           True               False                  True   \n",
       "1                          False               False                  True   \n",
       "2                           True               False                  True   \n",
       "3                          False               False                  True   \n",
       "4                          False               False                  True   \n",
       "...                          ...                 ...                   ...   \n",
       "9129                       False               False                  True   \n",
       "9130                       False               False                  True   \n",
       "9131                       False               False                  True   \n",
       "9132                       False                True                 False   \n",
       "9133                        True               False                  True   \n",
       "\n",
       "      Vehicle Size_Small  \n",
       "0                  False  \n",
       "1                  False  \n",
       "2                  False  \n",
       "3                  False  \n",
       "4                  False  \n",
       "...                  ...  \n",
       "9129               False  \n",
       "9130               False  \n",
       "9131               False  \n",
       "9132               False  \n",
       "9133               False  \n",
       "\n",
       "[9134 rows x 117 columns]"
      ]
     },
     "execution_count": 15,
     "metadata": {},
     "output_type": "execute_result"
    }
   ],
   "source": [
    "text_ltv_data = core_data.drop(columns = numeric_wo_ltv_columns)\n",
    "text_ltv_data = text_ltv_data.drop(columns = [\"Customer\"])\n",
    "text_ltv_data_dummies = pd.get_dummies(text_ltv_data)\n",
    "text_ltv_data_dummies"
   ]
  },
  {
   "cell_type": "code",
   "execution_count": 14,
   "id": "d3b89881-904c-4af0-b7fe-753c61e45c99",
   "metadata": {},
   "outputs": [
    {
     "name": "stdout",
     "output_type": "stream",
     "text": [
      "Getting dummies produces 117 columns\n"
     ]
    }
   ],
   "source": [
    "print(\"Getting dummies produces\",text_ltv_data_dummies.columns.nunique(), \"columns\")"
   ]
  },
  {
   "cell_type": "markdown",
   "id": "08b11c39-8748-40bb-a694-672a3d982e26",
   "metadata": {},
   "source": [
    "##### Now lets look at the correlation between string/object values and lifetime value"
   ]
  },
  {
   "cell_type": "code",
   "execution_count": 16,
   "id": "50443afb-b067-4d16-a3a4-e4af5065dbaa",
   "metadata": {},
   "outputs": [
    {
     "name": "stdout",
     "output_type": "stream",
     "text": [
      "Customer Lifetime Value        1.00\n",
      "Vehicle Class_Luxury SUV       0.19\n",
      "Vehicle Class_SUV              0.18\n",
      "Vehicle Class_Luxury Car       0.18\n",
      "Coverage_Premium               0.13\n",
      "                               ... \n",
      "Renew Offer Type_Offer4       -0.04\n",
      "Renew Offer Type_Offer2       -0.06\n",
      "Vehicle Class_Two-Door Car    -0.10\n",
      "Coverage_Basic                -0.15\n",
      "Vehicle Class_Four-Door Car   -0.20\n",
      "Name: Customer Lifetime Value, Length: 117, dtype: float64\n"
     ]
    }
   ],
   "source": [
    "text_ltv_data_corr = text_ltv_data_dummies.corr().round(2)\n",
    "print(text_ltv_data_corr[\"Customer Lifetime Value\"].sort_values(ascending = False))"
   ]
  },
  {
   "cell_type": "markdown",
   "id": "fd2c9d17-8f42-4b59-9a90-a527c5b3d8b0",
   "metadata": {},
   "source": [
    "Factors that positivity influence lifetime value include the insured car being an SUV or Luxury Car, meanwhile if the car is a Vehicle with 4 doors it negatively impacts lifetime value. Being a 2 door car also negatively influences lifetime value."
   ]
  },
  {
   "cell_type": "code",
   "execution_count": 17,
   "id": "bf1e4813-aba5-406f-bb9d-10124a47ef06",
   "metadata": {},
   "outputs": [
    {
     "data": {
      "text/plain": [
       "Customer Lifetime Value      1.00\n",
       "Vehicle Class_Luxury SUV     0.19\n",
       "Vehicle Class_SUV            0.18\n",
       "Vehicle Class_Luxury Car     0.18\n",
       "Coverage_Premium             0.13\n",
       "Renew Offer Type_Offer1      0.09\n",
       "Vehicle Class_Sports Car     0.09\n",
       "Coverage_Extended            0.07\n",
       "EmploymentStatus_Employed    0.04\n",
       "Effective To Date_1/14/11    0.03\n",
       "Name: Customer Lifetime Value, dtype: float64"
      ]
     },
     "execution_count": 17,
     "metadata": {},
     "output_type": "execute_result"
    }
   ],
   "source": [
    "text_ltv_data_corr[\"Customer Lifetime Value\"].sort_values(ascending = False).head(10)"
   ]
  },
  {
   "cell_type": "code",
   "execution_count": 18,
   "id": "2cd7d4be-e4bd-4fcd-87fe-ca87f4f14867",
   "metadata": {},
   "outputs": [
    {
     "data": {
      "text/plain": [
       "Effective To Date_2/14/11     -0.02\n",
       "Policy_Corporate L3           -0.02\n",
       "Policy_Corporate L2           -0.02\n",
       "EmploymentStatus_Unemployed   -0.03\n",
       "Marital Status_Single         -0.03\n",
       "Renew Offer Type_Offer4       -0.04\n",
       "Renew Offer Type_Offer2       -0.06\n",
       "Vehicle Class_Two-Door Car    -0.10\n",
       "Coverage_Basic                -0.15\n",
       "Vehicle Class_Four-Door Car   -0.20\n",
       "Name: Customer Lifetime Value, dtype: float64"
      ]
     },
     "execution_count": 18,
     "metadata": {},
     "output_type": "execute_result"
    }
   ],
   "source": [
    "text_ltv_data_corr[\"Customer Lifetime Value\"].sort_values(ascending = False).tail(10)"
   ]
  },
  {
   "cell_type": "markdown",
   "id": "7d6cc113-71f7-41d2-bea2-95608e36be67",
   "metadata": {},
   "source": [
    "##### Now lets explore the target variable - Customer Lifetime value"
   ]
  },
  {
   "cell_type": "code",
   "execution_count": 20,
   "id": "f3e1b6a6-544b-424e-b2c4-6ed35623bbd3",
   "metadata": {},
   "outputs": [
    {
     "name": "stdout",
     "output_type": "stream",
     "text": [
      "Mean of the target variable is 8004.94\n",
      "Maximum of the target variable is 83325.38\n",
      "Minimum of the target variable is 1898.01\n",
      "Standard deviation of the target variable is 6870.59\n"
     ]
    }
   ],
   "source": [
    "lifetime_value = np.array(core_data[\"Customer Lifetime Value\"])\n",
    "print(\"Mean of the target variable is\", np.round(np.mean(lifetime_value),2))\n",
    "print(\"Maximum of the target variable is\", np.round(np.max(lifetime_value),2))\n",
    "print(\"Minimum of the target variable is\", np.round(np.min(lifetime_value),2))\n",
    "print(\"Standard deviation of the target variable is\", np.round(np.std(lifetime_value),2))"
   ]
  },
  {
   "cell_type": "code",
   "execution_count": 21,
   "id": "1ad89edc-0274-4755-9eae-bfdd6b1ef650",
   "metadata": {},
   "outputs": [],
   "source": [
    "core_data_sorted = core_data.sort_values(by = \"Customer Lifetime Value\", ascending = False)"
   ]
  },
  {
   "cell_type": "markdown",
   "id": "c10e3a4e-5326-49c7-97fe-e4e66bdddc85",
   "metadata": {},
   "source": [
    "Now lets look at the highest and lowest customer Life Values. We have some very high lifetime value outliers."
   ]
  },
  {
   "cell_type": "code",
   "execution_count": 22,
   "id": "5bf2fff7-7d11-4492-88d5-3bcab51047c2",
   "metadata": {},
   "outputs": [
    {
     "data": {
      "text/plain": [
       "5716    83325.38\n",
       "1974    74228.52\n",
       "6252    73225.96\n",
       "7283    67907.27\n",
       "5279    66025.75\n",
       "7303    64618.76\n",
       "3760    61850.19\n",
       "8825    61134.68\n",
       "4126    60556.19\n",
       "2908    58753.88\n",
       "6584    58207.13\n",
       "79      58166.55\n",
       "7556    57520.50\n",
       "4915    56675.94\n",
       "6461    55277.45\n",
       "3145    52811.49\n",
       "6554    51426.25\n",
       "2190    51337.91\n",
       "6569    51016.07\n",
       "7835    50568.26\n",
       "Name: Customer Lifetime Value, dtype: float64"
      ]
     },
     "execution_count": 22,
     "metadata": {},
     "output_type": "execute_result"
    }
   ],
   "source": [
    "core_data_sorted[\"Customer Lifetime Value\"].head(20).round(2)"
   ]
  },
  {
   "cell_type": "code",
   "execution_count": 23,
   "id": "54326e1c-cbf6-453e-9a62-04ecc88783c7",
   "metadata": {},
   "outputs": [
    {
     "data": {
      "text/plain": [
       "5095    2064.697955\n",
       "717     2064.458781\n",
       "4958    2063.387895\n",
       "7794    2052.948967\n",
       "238     2050.623512\n",
       "3464    2034.993043\n",
       "4702    2030.783687\n",
       "2127    2009.772923\n",
       "702     2004.350666\n",
       "1916    2004.350666\n",
       "4818    2004.350666\n",
       "3665    2004.350666\n",
       "7135    2004.350666\n",
       "5375    2004.350666\n",
       "5894    1994.774936\n",
       "6711    1940.981221\n",
       "7083    1918.119700\n",
       "2771    1904.000852\n",
       "2210    1898.683686\n",
       "6037    1898.007675\n",
       "Name: Customer Lifetime Value, dtype: float64"
      ]
     },
     "execution_count": 23,
     "metadata": {},
     "output_type": "execute_result"
    }
   ],
   "source": [
    "core_data_sorted[\"Customer Lifetime Value\"].tail(20)"
   ]
  },
  {
   "cell_type": "markdown",
   "id": "3db20ff6-55fd-4a14-9938-b9497c38b952",
   "metadata": {},
   "source": [
    "Lets do a scatterplot of the most correlated feature (Monthly Premium Auto) with Customer Lifetime Value"
   ]
  },
  {
   "cell_type": "code",
   "execution_count": 24,
   "id": "624e5215-fffd-4d5a-a934-0f802d7cd6fa",
   "metadata": {},
   "outputs": [
    {
     "data": {
      "image/png": "[encoded data removed]",
      "text/plain": [
       "<Figure size 640x480 with 1 Axes>"
      ]
     },
     "metadata": {},
     "output_type": "display_data"
    }
   ],
   "source": [
    "import matplotlib.pyplot as plt\n",
    "scatter_x = core_data[\"Monthly Premium Auto\"]\n",
    "scatter_y = core_data[\"Customer Lifetime Value\"]\n",
    "plt.scatter(scatter_x,scatter_y)\n",
    "plt.xlabel(\"Monthly Premium Auto\")\n",
    "plt.ylabel(\"Customer Lifetime Value\")\n",
    "plt.title(\"Scatter Graph of Premium vs LTV\")\n",
    "plt.show()"
   ]
  },
  {
   "cell_type": "markdown",
   "id": "d4555f4d-eb17-4016-b3af-30546b947b40",
   "metadata": {},
   "source": [
    "##### It looks like there are several linear relationships spanning out of several possible categories. It might be possible to model this first by putting each data point into categories and then using multiple linear regression lines.\n",
    "\n",
    "Now lets create a histogram of Lifetime Values. From the chart below I can conclude that most of the LTVs are below 10,000 USD and then there are fewer in each further stepped increase."
   ]
  },
  {
   "cell_type": "code",
   "execution_count": 23,
   "id": "bfa4f2ad-2ead-47c8-a6f8-64bd5ea45b76",
   "metadata": {},
   "outputs": [
    {
     "data": {
      "image/png": "[encoded data removed]",
      "text/plain": [
       "<Figure size 640x480 with 1 Axes>"
      ]
     },
     "metadata": {},
     "output_type": "display_data"
    }
   ],
   "source": [
    "# Lets create a histogram of lifetime value.\n",
    "plt.hist(lifetime_value,bins=10, color = \"skyblue\",edgecolor = \"black\",density=True)\n",
    "plt.title(\"Histogram of Customer Lifetime Values in the dataset\")\n",
    "plt.show()"
   ]
  },
  {
   "cell_type": "markdown",
   "id": "51305a5c-5b83-4427-816b-33de286ddb99",
   "metadata": {},
   "source": [
    "Lifetime value (LTV) is positively skewed with the bulk of the data being under 10,000 USD and then a long tail that decays as it the LTVs get larger."
   ]
  },
  {
   "cell_type": "code",
   "execution_count": 28,
   "id": "c2c5f4a6-5584-4083-a8ce-0ddef425603a",
   "metadata": {},
   "outputs": [
    {
     "name": "stdout",
     "output_type": "stream",
     "text": [
      "Number of Lifetime values below $10000 are 7248 | Number of Lifetime values above $10000 are 1886 | Number of Lifetime values of over $20000 are 575\n"
     ]
    }
   ],
   "source": [
    "lifetime_value_low = np.sum(lifetime_value < 10000)\n",
    "lifetime_value_high = np.sum(lifetime_value > 10000)\n",
    "lifetime_value_high = np.sum(lifetime_value > 10000)\n",
    "lifetime_value_very_high = np.sum(lifetime_value > 20000)\n",
    "print(\"Number of Lifetime values below $10000 are\", lifetime_value_low,\"| Number of Lifetime values above $10000 are\",lifetime_value_high, \"| Number of Lifetime values of over $20000 are\",lifetime_value_very_high  )"
   ]
  },
  {
   "cell_type": "markdown",
   "id": "e5f31812-1ec4-4146-9098-81d12ea021be",
   "metadata": {},
   "source": [
    "#### Now lets look at the all the unique values in categorical columns"
   ]
  },
  {
   "cell_type": "code",
   "execution_count": 29,
   "id": "66e0b69c-0f7f-49ea-8825-d560c0d2e653",
   "metadata": {},
   "outputs": [
    {
     "name": "stdout",
     "output_type": "stream",
     "text": [
      "Customer contains ['BU79786' 'QZ44356' 'AI49188' ... 'TD14365' 'UP19263' 'Y167826']\n",
      "State contains ['Washington' 'Arizona' 'Nevada' 'California' 'Oregon']\n",
      "Response contains ['No' 'Yes']\n",
      "Coverage contains ['Basic' 'Extended' 'Premium']\n",
      "Education contains ['Bachelor' 'College' 'Master' 'High School or Below' 'Doctor']\n",
      "Effective To Date contains ['2/24/11' '1/31/11' '2/19/11' '1/20/11' '2/3/11' '1/25/11' '1/18/11'\n",
      " '1/26/11' '2/17/11' '2/21/11' '1/6/11' '2/6/11' '1/10/11' '1/17/11'\n",
      " '1/5/11' '2/27/11' '1/14/11' '1/21/11' '2/5/11' '1/29/11' '2/28/11'\n",
      " '2/12/11' '2/2/11' '2/7/11' '1/22/11' '2/13/11' '1/15/11' '1/8/11'\n",
      " '1/11/11' '1/28/11' '2/8/11' '2/23/11' '1/2/11' '2/16/11' '1/27/11'\n",
      " '1/23/11' '1/9/11' '2/11/11' '2/4/11' '2/1/11' '2/15/11' '2/26/11'\n",
      " '1/16/11' '1/1/11' '2/10/11' '1/24/11' '2/25/11' '1/12/11' '2/9/11'\n",
      " '1/19/11' '1/4/11' '2/14/11' '2/20/11' '2/18/11' '1/3/11' '1/13/11'\n",
      " '1/30/11' '2/22/11' '1/7/11']\n",
      "EmploymentStatus contains ['Employed' 'Unemployed' 'Medical Leave' 'Disabled' 'Retired']\n",
      "Gender contains ['F' 'M']\n",
      "Location Code contains ['Suburban' 'Rural' 'Urban']\n",
      "Marital Status contains ['Married' 'Single' 'Divorced']\n",
      "Policy Type contains ['Corporate Auto' 'Personal Auto' 'Special Auto']\n",
      "Policy contains ['Corporate L3' 'Personal L3' 'Corporate L2' 'Personal L1' 'Special L2'\n",
      " 'Corporate L1' 'Personal L2' 'Special L1' 'Special L3']\n",
      "Renew Offer Type contains ['Offer1' 'Offer3' 'Offer2' 'Offer4']\n",
      "Sales Channel contains ['Agent' 'Call Center' 'Web' 'Branch']\n",
      "Vehicle Class contains ['Two-Door Car' 'Four-Door Car' 'SUV' 'Luxury SUV' 'Sports Car'\n",
      " 'Luxury Car']\n",
      "Vehicle Size contains ['Medsize' 'Small' 'Large']\n"
     ]
    }
   ],
   "source": [
    "for i in text_data.columns:\n",
    "    print(i,\"contains\",text_data[i].unique())   "
   ]
  },
  {
   "cell_type": "markdown",
   "id": "2dccb86f-2c9c-43f2-8e8f-dccb96f866ad",
   "metadata": {},
   "source": [
    "Based on this above Coverage, Education, Effective To Date and Vehicle size are ordinal columns"
   ]
  },
  {
   "cell_type": "markdown",
   "id": "2ff58b98-5213-4168-9208-102cd2e50ed3",
   "metadata": {},
   "source": [
    "# 2. Feature Enginerring. \n",
    "##### Lets do some feature engineering."
   ]
  },
  {
   "cell_type": "markdown",
   "id": "9031337c-cffd-4c90-b60f-336d288c13da",
   "metadata": {},
   "source": [
    "##### How many NAs are there"
   ]
  },
  {
   "cell_type": "code",
   "execution_count": 30,
   "id": "b09669f8-2f88-4392-849d-75ca89626edc",
   "metadata": {},
   "outputs": [
    {
     "name": "stdout",
     "output_type": "stream",
     "text": [
      "The number of NAs are Customer                         0\n",
      "State                            0\n",
      "Customer Lifetime Value          0\n",
      "Response                         0\n",
      "Coverage                         0\n",
      "Education                        0\n",
      "Effective To Date                0\n",
      "EmploymentStatus                 0\n",
      "Gender                           0\n",
      "Income                           0\n",
      "Location Code                    0\n",
      "Marital Status                   0\n",
      "Monthly Premium Auto             0\n",
      "Months Since Last Claim          0\n",
      "Months Since Policy Inception    0\n",
      "Number of Open Complaints        0\n",
      "Number of Policies               0\n",
      "Policy Type                      0\n",
      "Policy                           0\n",
      "Renew Offer Type                 0\n",
      "Sales Channel                    0\n",
      "Total Claim Amount               0\n",
      "Vehicle Class                    0\n",
      "Vehicle Size                     0\n",
      "dtype: int64\n"
     ]
    }
   ],
   "source": [
    "print(\"The number of NAs are\", core_data.isna().sum())"
   ]
  },
  {
   "cell_type": "markdown",
   "id": "73e63cfd-df20-488a-aaf8-1ae701b1e19a",
   "metadata": {},
   "source": [
    "##### Celebrate, we have no NAs! Lets see what happens if we put everything through onehotencoder"
   ]
  },
  {
   "cell_type": "code",
   "execution_count": 31,
   "id": "e5a289de-3a98-432d-a762-17d25d83bec0",
   "metadata": {},
   "outputs": [
    {
     "name": "stdout",
     "output_type": "stream",
     "text": [
      "Remove columns about claims and the customer ID column as we want to predict LTV before claims are made\n"
     ]
    }
   ],
   "source": [
    "print(\"Remove columns about claims and the customer ID column as we want to predict LTV before claims are made\")\n",
    "core_data = core_data.drop(columns = [\"Total Claim Amount\",\"Months Since Last Claim\",\"Customer\"])"
   ]
  },
  {
   "cell_type": "code",
   "execution_count": 32,
   "id": "88abd754-090b-451b-84ed-898542cf1afe",
   "metadata": {},
   "outputs": [],
   "source": [
    "X = core_data.drop(columns = [\"Customer Lifetime Value\"])\n",
    "y = core_data[\"Customer Lifetime Value\"]"
   ]
  },
  {
   "cell_type": "code",
   "execution_count": 33,
   "id": "27cc319e-20db-4119-ae4a-703ac88c4b01",
   "metadata": {},
   "outputs": [],
   "source": [
    "from sklearn.preprocessing import OneHotEncoder, RobustScaler, OrdinalEncoder\n",
    "from sklearn.compose import ColumnTransformer"
   ]
  },
  {
   "cell_type": "code",
   "execution_count": 34,
   "id": "0f87351b-227f-4a6c-a639-9e34957457a9",
   "metadata": {},
   "outputs": [],
   "source": [
    "X.columns = [str(col) for col in X.columns]  # Convert all column names to strings"
   ]
  },
  {
   "cell_type": "code",
   "execution_count": 35,
   "id": "ea4c0031-284b-47d9-a958-466637cdde03",
   "metadata": {},
   "outputs": [],
   "source": [
    "ordinal_features = [\"Vehicle Size\", \"Coverage\",\"Education\"]\n",
    "numeric_features = X.select_dtypes(include=['int64', 'float64']).columns.tolist()\n",
    "categorical_features = X.select_dtypes(include=['object', 'category']).columns.tolist()\n",
    "categorical_features = [col for col in categorical_features if col not in ordinal_features]"
   ]
  },
  {
   "cell_type": "code",
   "execution_count": 41,
   "id": "20bb4a41-7f8a-468f-8538-2f2c2d72fab0",
   "metadata": {},
   "outputs": [
    {
     "data": {
      "text/plain": [
       "['Income',\n",
       " 'Monthly Premium Auto',\n",
       " 'Months Since Policy Inception',\n",
       " 'Number of Open Complaints',\n",
       " 'Number of Policies']"
      ]
     },
     "execution_count": 41,
     "metadata": {},
     "output_type": "execute_result"
    }
   ],
   "source": [
    "#check numeric features are right\n",
    "numeric_features"
   ]
  },
  {
   "cell_type": "code",
   "execution_count": 42,
   "id": "41fb7da9-24b1-49fa-8280-cac9a4e91b00",
   "metadata": {},
   "outputs": [
    {
     "data": {
      "text/plain": [
       "['State',\n",
       " 'Response',\n",
       " 'Effective To Date',\n",
       " 'EmploymentStatus',\n",
       " 'Gender',\n",
       " 'Location Code',\n",
       " 'Marital Status',\n",
       " 'Policy Type',\n",
       " 'Policy',\n",
       " 'Renew Offer Type',\n",
       " 'Sales Channel',\n",
       " 'Vehicle Class']"
      ]
     },
     "execution_count": 42,
     "metadata": {},
     "output_type": "execute_result"
    }
   ],
   "source": [
    "#check columns features are right\n",
    "categorical_features"
   ]
  },
  {
   "cell_type": "code",
   "execution_count": 43,
   "id": "6ba8886f-c92f-4189-bf8b-b12903f8cdfc",
   "metadata": {},
   "outputs": [],
   "source": [
    "# Categories for ordinal features\n",
    "\n",
    "categories = [\n",
    "    ['Small', 'Medsize', 'Large'], \n",
    "    ['Basic', 'Extended', 'Premium'], \n",
    "    ['High School or Below', 'College', 'Bachelor', 'Master', 'Doctor']  \n",
    "]"
   ]
  },
  {
   "cell_type": "code",
   "execution_count": 44,
   "id": "c60f4ec9-cb99-48f1-a839-6672014f1298",
   "metadata": {},
   "outputs": [],
   "source": [
    "# Set up preprocessor\n",
    "\n",
    "preprocessor = ColumnTransformer(\n",
    "    transformers=[\n",
    "        (\"ord\", OrdinalEncoder(categories=categories), ordinal_features),\n",
    "        ('num', RobustScaler(), numeric_features),\n",
    "        ('cat', OneHotEncoder(sparse_output=False, drop='first'), categorical_features)  \n",
    "    ]\n",
    ")"
   ]
  },
  {
   "cell_type": "markdown",
   "id": "b5f1bd7f-139a-409c-805f-4044b1554b3e",
   "metadata": {},
   "source": [
    "# 3. Train test split"
   ]
  },
  {
   "cell_type": "code",
   "execution_count": 45,
   "id": "2c00aa6d-7a33-47f4-89a2-ab7c349635cc",
   "metadata": {},
   "outputs": [],
   "source": [
    "X_train, X_test, y_train, y_test = train_test_split(X, y, test_size = 0.25)"
   ]
  },
  {
   "cell_type": "code",
   "execution_count": 46,
   "id": "c8992a96-600c-4a84-923f-02579608dce2",
   "metadata": {},
   "outputs": [
    {
     "name": "stdout",
     "output_type": "stream",
     "text": [
      "Number of training set rows are 6850 Number of Test set rows are 2284\n"
     ]
    }
   ],
   "source": [
    "print(\"Number of training set rows are\", X_train.shape[0],\n",
    "\"Number of Test set rows are\", X_test.shape[0])"
   ]
  },
  {
   "cell_type": "code",
   "execution_count": 47,
   "id": "7fb357f1-b4b0-434f-91c2-c26fb5443c6c",
   "metadata": {},
   "outputs": [],
   "source": [
    "X_train_processed_ = preprocessor.fit_transform(X_train)\n",
    "X_test_processed_ = preprocessor.transform(X_test)"
   ]
  },
  {
   "cell_type": "code",
   "execution_count": 48,
   "id": "7a78f86e-1f63-4687-81de-cc2e42872100",
   "metadata": {},
   "outputs": [],
   "source": [
    "numerical_column_names = numeric_features\n",
    "ordinal_column_names = ordinal_features\n",
    "\n",
    "# The get_feature_names_out method generates the names of the new columns created by OneHotEncoder for categorical columns\n",
    "categorical_column_names = preprocessor.named_transformers_['cat'].get_feature_names_out(categorical_features)\n",
    "\n",
    "# Combine the names of numerical and categorical columns into a list\n",
    "all_column_names = list(numerical_column_names) + list(ordinal_column_names) + list(categorical_column_names)"
   ]
  },
  {
   "cell_type": "code",
   "execution_count": 49,
   "id": "d8df3e07-491f-4f32-b732-d121a74258af",
   "metadata": {},
   "outputs": [],
   "source": [
    "X_train_processed_df = pd.DataFrame(X_train_processed_, columns=all_column_names)\n",
    "X_test_processed_df = pd.DataFrame(X_test_processed_, columns=all_column_names)"
   ]
  },
  {
   "cell_type": "markdown",
   "id": "efb811fb-6524-4cd8-b3cd-86308bf1467d",
   "metadata": {},
   "source": [
    "# 4. Regression Tests"
   ]
  },
  {
   "cell_type": "markdown",
   "id": "29589844-1d85-4f31-93d3-4013c3502351",
   "metadata": {},
   "source": [
    "Lets find out what the baseline metrics are"
   ]
  },
  {
   "cell_type": "code",
   "execution_count": 50,
   "id": "923e2dc3-1a60-4d1c-8e87-a924a2dbdecc",
   "metadata": {},
   "outputs": [
    {
     "name": "stdout",
     "output_type": "stream",
     "text": [
      "Baseline mean absolute error is 4320.02\n",
      "Baseline root mean absolute error is 6813.79\n",
      "Baseline mean absolute percentage error is 0.73\n",
      "Baseline R2 Score is -0.0\n"
     ]
    }
   ],
   "source": [
    "from sklearn.metrics import mean_absolute_error\n",
    "from sklearn.metrics import root_mean_squared_error\n",
    "from sklearn.metrics import mean_absolute_percentage_error\n",
    "from sklearn.metrics import r2_score\n",
    "\n",
    "y_pred_mean = np.full_like(y_test,np.mean(y_train))\n",
    "mae_baseline = mean_absolute_error(y_test, y_pred_mean)\n",
    "rmse_baseline = root_mean_squared_error(y_test,y_pred_mean)\n",
    "mape_baseline = mean_absolute_percentage_error(y_test, y_pred_mean)\n",
    "r2_baseline = r2_score(y_test,y_pred_mean)\n",
    "\n",
    "print(\"Baseline mean absolute error is\", np.round(mae_baseline,2))\n",
    "print(\"Baseline root mean absolute error is\", np.round(rmse_baseline,2))\n",
    "print(\"Baseline mean absolute percentage error is\",np.round(mape_baseline,2))\n",
    "print(\"Baseline R2 Score is\", np.round(r2_baseline,3))"
   ]
  },
  {
   "cell_type": "markdown",
   "id": "77c1bcba-48c9-490e-bcbf-7888d7ca2635",
   "metadata": {},
   "source": [
    "#### Import some juicy machine learning models. As this is a regression task all the models are regression based though some are adaptations of classification models e.g. Random Forest Regressor."
   ]
  },
  {
   "cell_type": "code",
   "execution_count": 127,
   "id": "0b658fef-11b3-4801-be1e-6817b9ef0a1f",
   "metadata": {},
   "outputs": [],
   "source": [
    "\n",
    "from sklearn.linear_model import LinearRegression, Lasso, Ridge\n",
    "from sklearn.tree import DecisionTreeRegressor\n",
    "from sklearn.ensemble import AdaBoostRegressor,RandomForestRegressor\n",
    "from sklearn.model_selection import KFold\n",
    "from sklearn.neural_network import MLPRegressor\n",
    "from sklearn.ensemble import GradientBoostingRegressor\n",
    "from sklearn.svm import SVR\n"
   ]
  },
  {
   "cell_type": "code",
   "execution_count": 128,
   "id": "a3f4b56d-0500-4533-bb27-6f44f2410056",
   "metadata": {},
   "outputs": [],
   "source": [
    "#create a dictionary of the machine leanring models\n",
    "models = {\n",
    "        \"MLP Regressor\": MLPRegressor(learning_rate_init = 0.005, max_iter = 500),\n",
    "        \"Linear Regression\": LinearRegression(),\n",
    "        \"Lasso Regression\": Lasso(),\n",
    "        \"Ridge Regression\": Ridge(),\n",
    "        \"Decision Trees\": DecisionTreeRegressor(),\n",
    "        \"Ada Boost Regressor\":  AdaBoostRegressor(),\n",
    "        \"Random Forest Regressor\": RandomForestRegressor(),\n",
    "        \"Support Vector Regressor\": SVR(),\n",
    "        \"Gradient Boosting Regressor\": GradientBoostingRegressor(),  \n",
    "       }"
   ]
  },
  {
   "cell_type": "code",
   "execution_count": 129,
   "id": "de8fa0a5-2b70-4722-af07-2709dffd4d01",
   "metadata": {},
   "outputs": [],
   "source": [
    "#Create a function to train machine learning models and get performance metrics\n",
    "def my_model_training(models,X,y):\n",
    "    results = []\n",
    "    kf = KFold(n_splits=4,shuffle=True)\n",
    "    for name, model in models.items():\n",
    "        mae_array = []\n",
    "        rmse_array = []\n",
    "        mape_array = []\n",
    "        r2_array = []\n",
    "        for train_index, test_index in kf.split(X):\n",
    "            X_train, X_test = X.loc[train_index], X.loc[test_index]\n",
    "            y_train, y_test = y[train_index], y[test_index]\n",
    "            X_train_processed = preprocessor.fit_transform(X_train)\n",
    "            X_test_processed = preprocessor.transform(X_test)\n",
    "            model.fit(X_train_processed, y_train)\n",
    "            y_pred = model.predict(X_test_processed)\n",
    "            mae_array.append(mean_absolute_error(y_test,y_pred))\n",
    "            rmse_array.append(root_mean_squared_error(y_test,y_pred))\n",
    "            mape_array.append(mean_absolute_percentage_error(y_test,y_pred))\n",
    "            r2_array.append(r2_score(y_test,y_pred))\n",
    "        mae = np.mean(mae_array)\n",
    "        rmse = np.mean(rmse_array)\n",
    "        mape = np.mean(mape_array)\n",
    "        r2 = np.mean(r2_array)\n",
    "        results.append({\n",
    "            \"Models\": name,\n",
    "            \"RMSE\": np.round(rmse,2),\n",
    "            \"R2\": np.round(r2,2),\n",
    "            \"MAPE\": np.round(mape,2),\n",
    "            \"MAE\": np.round(mae,2)\n",
    "        })\n",
    "        print(\"I've finished training\",name)\n",
    "    return results"
   ]
  },
  {
   "cell_type": "code",
   "execution_count": 130,
   "id": "fc850dba-2651-4b60-993f-3baa85c9fba6",
   "metadata": {},
   "outputs": [
    {
     "name": "stderr",
     "output_type": "stream",
     "text": [
      "C:\\Users\\matth\\anaconda3\\Lib\\site-packages\\sklearn\\neural_network\\_multilayer_perceptron.py:690: ConvergenceWarning: Stochastic Optimizer: Maximum iterations (500) reached and the optimization hasn't converged yet.\n",
      "  warnings.warn(\n",
      "C:\\Users\\matth\\anaconda3\\Lib\\site-packages\\sklearn\\neural_network\\_multilayer_perceptron.py:690: ConvergenceWarning: Stochastic Optimizer: Maximum iterations (500) reached and the optimization hasn't converged yet.\n",
      "  warnings.warn(\n",
      "C:\\Users\\matth\\anaconda3\\Lib\\site-packages\\sklearn\\neural_network\\_multilayer_perceptron.py:690: ConvergenceWarning: Stochastic Optimizer: Maximum iterations (500) reached and the optimization hasn't converged yet.\n",
      "  warnings.warn(\n",
      "C:\\Users\\matth\\anaconda3\\Lib\\site-packages\\sklearn\\neural_network\\_multilayer_perceptron.py:690: ConvergenceWarning: Stochastic Optimizer: Maximum iterations (500) reached and the optimization hasn't converged yet.\n",
      "  warnings.warn(\n"
     ]
    },
    {
     "name": "stdout",
     "output_type": "stream",
     "text": [
      "I've finished training MLP Regressor\n",
      "I've finished training Linear Regression\n",
      "I've finished training Lasso Regression\n",
      "I've finished training Ridge Regression\n",
      "I've finished training Decision Trees\n",
      "I've finished training Ada Boost Regressor\n",
      "I've finished training Random Forest Regressor\n",
      "I've finished training Support Vector Regressor\n",
      "I've finished training Gradient Boosting Regressor\n"
     ]
    }
   ],
   "source": [
    "# train machine learning models\n",
    "the_results_1st_try = my_model_training(models,X, y)"
   ]
  },
  {
   "cell_type": "code",
   "execution_count": 131,
   "id": "26af6147-0332-43f4-a983-b6d49b30731a",
   "metadata": {},
   "outputs": [],
   "source": [
    "the_results_1st_try = pd.DataFrame(the_results_1st_try).sort_values(by=[\"RMSE\",\"R2\",\"MAPE\",\"MAE\"], ascending=[True, True, True,True])"
   ]
  },
  {
   "cell_type": "code",
   "execution_count": 132,
   "id": "a2ce2336-a626-4ff1-8413-6b77098452c6",
   "metadata": {},
   "outputs": [
    {
     "data": {
      "text/html": [
       "<div>\n",
       "<style scoped>\n",
       "    .dataframe tbody tr th:only-of-type {\n",
       "        vertical-align: middle;\n",
       "    }\n",
       "\n",
       "    .dataframe tbody tr th {\n",
       "        vertical-align: top;\n",
       "    }\n",
       "\n",
       "    .dataframe thead th {\n",
       "        text-align: right;\n",
       "    }\n",
       "</style>\n",
       "<table border=\"1\" class=\"dataframe\">\n",
       "  <thead>\n",
       "    <tr style=\"text-align: right;\">\n",
       "      <th></th>\n",
       "      <th>Models</th>\n",
       "      <th>RMSE</th>\n",
       "      <th>R2</th>\n",
       "      <th>MAPE</th>\n",
       "      <th>MAE</th>\n",
       "    </tr>\n",
       "  </thead>\n",
       "  <tbody>\n",
       "    <tr>\n",
       "      <th>6</th>\n",
       "      <td>Random Forest Regressor</td>\n",
       "      <td>3795.50</td>\n",
       "      <td>0.69</td>\n",
       "      <td>0.10</td>\n",
       "      <td>1444.09</td>\n",
       "    </tr>\n",
       "    <tr>\n",
       "      <th>8</th>\n",
       "      <td>Gradient Boosting Regressor</td>\n",
       "      <td>3871.41</td>\n",
       "      <td>0.68</td>\n",
       "      <td>0.14</td>\n",
       "      <td>1736.51</td>\n",
       "    </tr>\n",
       "    <tr>\n",
       "      <th>0</th>\n",
       "      <td>MLP Regressor</td>\n",
       "      <td>4670.19</td>\n",
       "      <td>0.54</td>\n",
       "      <td>0.29</td>\n",
       "      <td>2636.13</td>\n",
       "    </tr>\n",
       "    <tr>\n",
       "      <th>4</th>\n",
       "      <td>Decision Trees</td>\n",
       "      <td>5094.39</td>\n",
       "      <td>0.45</td>\n",
       "      <td>0.12</td>\n",
       "      <td>1652.00</td>\n",
       "    </tr>\n",
       "    <tr>\n",
       "      <th>2</th>\n",
       "      <td>Lasso Regression</td>\n",
       "      <td>6314.69</td>\n",
       "      <td>0.15</td>\n",
       "      <td>0.60</td>\n",
       "      <td>3916.84</td>\n",
       "    </tr>\n",
       "    <tr>\n",
       "      <th>3</th>\n",
       "      <td>Ridge Regression</td>\n",
       "      <td>6315.94</td>\n",
       "      <td>0.15</td>\n",
       "      <td>0.60</td>\n",
       "      <td>3919.24</td>\n",
       "    </tr>\n",
       "    <tr>\n",
       "      <th>1</th>\n",
       "      <td>Linear Regression</td>\n",
       "      <td>6325.66</td>\n",
       "      <td>0.15</td>\n",
       "      <td>0.59</td>\n",
       "      <td>3920.47</td>\n",
       "    </tr>\n",
       "    <tr>\n",
       "      <th>5</th>\n",
       "      <td>Ada Boost Regressor</td>\n",
       "      <td>6450.39</td>\n",
       "      <td>0.10</td>\n",
       "      <td>0.73</td>\n",
       "      <td>5133.51</td>\n",
       "    </tr>\n",
       "    <tr>\n",
       "      <th>7</th>\n",
       "      <td>Support Vector Regressor</td>\n",
       "      <td>7196.48</td>\n",
       "      <td>-0.10</td>\n",
       "      <td>0.50</td>\n",
       "      <td>4045.57</td>\n",
       "    </tr>\n",
       "  </tbody>\n",
       "</table>\n",
       "</div>"
      ],
      "text/plain": [
       "                        Models     RMSE    R2  MAPE      MAE\n",
       "6      Random Forest Regressor  3795.50  0.69  0.10  1444.09\n",
       "8  Gradient Boosting Regressor  3871.41  0.68  0.14  1736.51\n",
       "0                MLP Regressor  4670.19  0.54  0.29  2636.13\n",
       "4               Decision Trees  5094.39  0.45  0.12  1652.00\n",
       "2             Lasso Regression  6314.69  0.15  0.60  3916.84\n",
       "3             Ridge Regression  6315.94  0.15  0.60  3919.24\n",
       "1            Linear Regression  6325.66  0.15  0.59  3920.47\n",
       "5          Ada Boost Regressor  6450.39  0.10  0.73  5133.51\n",
       "7     Support Vector Regressor  7196.48 -0.10  0.50  4045.57"
      ]
     },
     "execution_count": 132,
     "metadata": {},
     "output_type": "execute_result"
    }
   ],
   "source": [
    "the_results_1st_try"
   ]
  },
  {
   "cell_type": "markdown",
   "id": "21041d7e-cfb1-4bc8-bc60-5a02edda013e",
   "metadata": {},
   "source": [
    "Random Forest Regressor is the best model when using default hyperparameters having best resutls for RMSE, R2, MAPE and MAE. The second best one is Gradinet Booster Regressor - both are decision tree based regressors. The MLP Regressor is 3rd. It is a neural network built for regression however the error notices say that the neural network didn't converge perhaps due to a slow learning rate, or not enough interations. Interestingly basic Decision trees was 2nd best when looking at the metrics MAE and MAPE. This would suggest that that algorithm has the most error for already large LTVs. Now lets do a second check on the Random Forest Regressor with train-train-split."
   ]
  },
  {
   "cell_type": "code",
   "execution_count": 133,
   "id": "7582f3bd-4aa0-4b52-b3a1-d1c34b899cd6",
   "metadata": {},
   "outputs": [],
   "source": [
    "best_model = RandomForestRegressor()\n",
    "best_model.fit(X_train_processed_, y_train)\n",
    "y_pred = best_model.predict(X_test_processed_)\n",
    "best_model_residuals = y_pred - y_test"
   ]
  },
  {
   "cell_type": "code",
   "execution_count": 134,
   "id": "a162bb8a-f148-4562-9814-f7315740a265",
   "metadata": {},
   "outputs": [
    {
     "name": "stdout",
     "output_type": "stream",
     "text": [
      "RMSE: 3735.02 r2 score: 0.7 MAPE: 0.1 MAE: 1406.72\n"
     ]
    }
   ],
   "source": [
    "mae = mean_absolute_error(y_test, y_pred)\n",
    "rmse = root_mean_squared_error(y_test,y_pred)\n",
    "mape = mean_absolute_percentage_error(y_test,y_pred)\n",
    "r2 = r2_score(y_test,y_pred)\n",
    "print(\"RMSE:\",np.round(rmse,2),\"r2 score:\", np.round(r2,2),\"MAPE:\",np.round(mape,2),\"MAE:\",np.round(mae,2))"
   ]
  },
  {
   "cell_type": "markdown",
   "id": "dd267a00-477d-40d5-865b-c797fb76a652",
   "metadata": {},
   "source": [
    "It does have a slightly higher RMSE when doing train test split rather than KFold"
   ]
  },
  {
   "cell_type": "code",
   "execution_count": 135,
   "id": "6461a170-374c-4e6a-b4eb-0ef25542e221",
   "metadata": {},
   "outputs": [],
   "source": [
    "residual_df = pd.DataFrame({\"y_test\":np.round(y_test,2),\n",
    "                            \"y_pred\": np.round(y_pred,2),\n",
    "                            \"residuals\":np.round(best_model_residuals,2)})\n",
    "residual_df = residual_df.sort_values(by = \"residuals\", ascending = False)"
   ]
  },
  {
   "cell_type": "markdown",
   "id": "fce42c25-4fd7-4395-9f02-12c707d17e0f",
   "metadata": {},
   "source": [
    "Lets see how large the residuals are. It's an issue if there are residuals that are very large as when fed back to Google/Microsoft/Meta it could cause their algrorithms to concentrate too much on certain audience segments."
   ]
  },
  {
   "cell_type": "code",
   "execution_count": 136,
   "id": "ce35d785-fda7-48fc-ac1d-194ea4e106f1",
   "metadata": {},
   "outputs": [
    {
     "data": {
      "text/html": [
       "<div>\n",
       "<style scoped>\n",
       "    .dataframe tbody tr th:only-of-type {\n",
       "        vertical-align: middle;\n",
       "    }\n",
       "\n",
       "    .dataframe tbody tr th {\n",
       "        vertical-align: top;\n",
       "    }\n",
       "\n",
       "    .dataframe thead th {\n",
       "        text-align: right;\n",
       "    }\n",
       "</style>\n",
       "<table border=\"1\" class=\"dataframe\">\n",
       "  <thead>\n",
       "    <tr style=\"text-align: right;\">\n",
       "      <th></th>\n",
       "      <th>y_test</th>\n",
       "      <th>y_pred</th>\n",
       "      <th>residuals</th>\n",
       "    </tr>\n",
       "  </thead>\n",
       "  <tbody>\n",
       "    <tr>\n",
       "      <th>810</th>\n",
       "      <td>18361.56</td>\n",
       "      <td>36052.03</td>\n",
       "      <td>17690.47</td>\n",
       "    </tr>\n",
       "    <tr>\n",
       "      <th>4350</th>\n",
       "      <td>22062.55</td>\n",
       "      <td>37538.37</td>\n",
       "      <td>15475.82</td>\n",
       "    </tr>\n",
       "    <tr>\n",
       "      <th>8415</th>\n",
       "      <td>19228.46</td>\n",
       "      <td>33284.55</td>\n",
       "      <td>14056.08</td>\n",
       "    </tr>\n",
       "    <tr>\n",
       "      <th>5768</th>\n",
       "      <td>18726.15</td>\n",
       "      <td>30960.26</td>\n",
       "      <td>12234.11</td>\n",
       "    </tr>\n",
       "    <tr>\n",
       "      <th>5498</th>\n",
       "      <td>12519.80</td>\n",
       "      <td>24302.16</td>\n",
       "      <td>11782.36</td>\n",
       "    </tr>\n",
       "    <tr>\n",
       "      <th>1008</th>\n",
       "      <td>22986.15</td>\n",
       "      <td>34408.21</td>\n",
       "      <td>11422.06</td>\n",
       "    </tr>\n",
       "    <tr>\n",
       "      <th>7328</th>\n",
       "      <td>16350.13</td>\n",
       "      <td>27258.09</td>\n",
       "      <td>10907.96</td>\n",
       "    </tr>\n",
       "    <tr>\n",
       "      <th>4099</th>\n",
       "      <td>14710.43</td>\n",
       "      <td>25572.42</td>\n",
       "      <td>10861.99</td>\n",
       "    </tr>\n",
       "    <tr>\n",
       "      <th>7201</th>\n",
       "      <td>14789.62</td>\n",
       "      <td>25033.71</td>\n",
       "      <td>10244.09</td>\n",
       "    </tr>\n",
       "    <tr>\n",
       "      <th>4403</th>\n",
       "      <td>13432.00</td>\n",
       "      <td>23645.76</td>\n",
       "      <td>10213.76</td>\n",
       "    </tr>\n",
       "  </tbody>\n",
       "</table>\n",
       "</div>"
      ],
      "text/plain": [
       "        y_test    y_pred  residuals\n",
       "810   18361.56  36052.03   17690.47\n",
       "4350  22062.55  37538.37   15475.82\n",
       "8415  19228.46  33284.55   14056.08\n",
       "5768  18726.15  30960.26   12234.11\n",
       "5498  12519.80  24302.16   11782.36\n",
       "1008  22986.15  34408.21   11422.06\n",
       "7328  16350.13  27258.09   10907.96\n",
       "4099  14710.43  25572.42   10861.99\n",
       "7201  14789.62  25033.71   10244.09\n",
       "4403  13432.00  23645.76   10213.76"
      ]
     },
     "execution_count": 136,
     "metadata": {},
     "output_type": "execute_result"
    }
   ],
   "source": [
    "residual_df.head(10)"
   ]
  },
  {
   "cell_type": "markdown",
   "id": "41731b05-03ee-45cb-8785-6a73a4fa296e",
   "metadata": {},
   "source": [
    "The largest residuals are for large real LTVs (y_test)"
   ]
  },
  {
   "cell_type": "code",
   "execution_count": 137,
   "id": "37cd3263-7102-4923-bb6c-d2f3d3636618",
   "metadata": {},
   "outputs": [
    {
     "data": {
      "text/html": [
       "<div>\n",
       "<style scoped>\n",
       "    .dataframe tbody tr th:only-of-type {\n",
       "        vertical-align: middle;\n",
       "    }\n",
       "\n",
       "    .dataframe tbody tr th {\n",
       "        vertical-align: top;\n",
       "    }\n",
       "\n",
       "    .dataframe thead th {\n",
       "        text-align: right;\n",
       "    }\n",
       "</style>\n",
       "<table border=\"1\" class=\"dataframe\">\n",
       "  <thead>\n",
       "    <tr style=\"text-align: right;\">\n",
       "      <th></th>\n",
       "      <th>y_test</th>\n",
       "      <th>y_pred</th>\n",
       "      <th>residuals</th>\n",
       "    </tr>\n",
       "  </thead>\n",
       "  <tbody>\n",
       "    <tr>\n",
       "      <th>50</th>\n",
       "      <td>36707.43</td>\n",
       "      <td>14515.51</td>\n",
       "      <td>-22191.92</td>\n",
       "    </tr>\n",
       "    <tr>\n",
       "      <th>6554</th>\n",
       "      <td>51426.25</td>\n",
       "      <td>28391.73</td>\n",
       "      <td>-23034.52</td>\n",
       "    </tr>\n",
       "    <tr>\n",
       "      <th>7943</th>\n",
       "      <td>44520.14</td>\n",
       "      <td>21333.53</td>\n",
       "      <td>-23186.61</td>\n",
       "    </tr>\n",
       "    <tr>\n",
       "      <th>4126</th>\n",
       "      <td>60556.19</td>\n",
       "      <td>37009.35</td>\n",
       "      <td>-23546.84</td>\n",
       "    </tr>\n",
       "    <tr>\n",
       "      <th>5403</th>\n",
       "      <td>44856.11</td>\n",
       "      <td>19999.99</td>\n",
       "      <td>-24856.13</td>\n",
       "    </tr>\n",
       "    <tr>\n",
       "      <th>6461</th>\n",
       "      <td>55277.45</td>\n",
       "      <td>28884.01</td>\n",
       "      <td>-26393.44</td>\n",
       "    </tr>\n",
       "    <tr>\n",
       "      <th>4388</th>\n",
       "      <td>44468.02</td>\n",
       "      <td>15932.40</td>\n",
       "      <td>-28535.62</td>\n",
       "    </tr>\n",
       "    <tr>\n",
       "      <th>2908</th>\n",
       "      <td>58753.88</td>\n",
       "      <td>28158.70</td>\n",
       "      <td>-30595.18</td>\n",
       "    </tr>\n",
       "    <tr>\n",
       "      <th>7556</th>\n",
       "      <td>57520.50</td>\n",
       "      <td>21069.73</td>\n",
       "      <td>-36450.77</td>\n",
       "    </tr>\n",
       "    <tr>\n",
       "      <th>5716</th>\n",
       "      <td>83325.38</td>\n",
       "      <td>30532.28</td>\n",
       "      <td>-52793.10</td>\n",
       "    </tr>\n",
       "  </tbody>\n",
       "</table>\n",
       "</div>"
      ],
      "text/plain": [
       "        y_test    y_pred  residuals\n",
       "50    36707.43  14515.51  -22191.92\n",
       "6554  51426.25  28391.73  -23034.52\n",
       "7943  44520.14  21333.53  -23186.61\n",
       "4126  60556.19  37009.35  -23546.84\n",
       "5403  44856.11  19999.99  -24856.13\n",
       "6461  55277.45  28884.01  -26393.44\n",
       "4388  44468.02  15932.40  -28535.62\n",
       "2908  58753.88  28158.70  -30595.18\n",
       "7556  57520.50  21069.73  -36450.77\n",
       "5716  83325.38  30532.28  -52793.10"
      ]
     },
     "execution_count": 137,
     "metadata": {},
     "output_type": "execute_result"
    }
   ],
   "source": [
    "residual_df.tail(10)"
   ]
  },
  {
   "cell_type": "markdown",
   "id": "00e246c8-80c6-48f3-a58f-cdfe82257675",
   "metadata": {},
   "source": [
    "Negative residuals are also for real LTVs that are high"
   ]
  },
  {
   "cell_type": "code",
   "execution_count": 138,
   "id": "471a3a8b-b095-4730-8b40-e3dfd85ca8bd",
   "metadata": {},
   "outputs": [
    {
     "name": "stdout",
     "output_type": "stream",
     "text": [
      "295 are more than 2000 usd out of 2284\n"
     ]
    }
   ],
   "source": [
    "residuals_more_2000 = residual_df[residual_df[\"residuals\"] > 2000].count()\n",
    "print(residuals_more_2000[\"residuals\"], \"are more than 2000 usd out of\", y_test.count())"
   ]
  },
  {
   "cell_type": "code",
   "execution_count": 139,
   "id": "212c37ee-d576-40c4-9acd-f2b029cdac5a",
   "metadata": {},
   "outputs": [
    {
     "name": "stdout",
     "output_type": "stream",
     "text": [
      "155 are less than 2000 usd out of 2284\n"
     ]
    }
   ],
   "source": [
    "residuals_less_neg2000 = residual_df[residual_df[\"residuals\"] < -2000].count()\n",
    "print(residuals_less_neg2000[\"residuals\"], \"are less than 2000 usd out of\", y_test.count())"
   ]
  },
  {
   "cell_type": "code",
   "execution_count": 140,
   "id": "d17a4ba7-051c-4871-a6db-b653c570576c",
   "metadata": {},
   "outputs": [
    {
     "data": {
      "image/png": "[encoded data removed]",
      "text/plain": [
       "<Figure size 640x480 with 1 Axes>"
      ]
     },
     "metadata": {},
     "output_type": "display_data"
    }
   ],
   "source": [
    "# Now lets plot the residuals\n",
    "\n",
    "import seaborn as sns\n",
    "sns.histplot(best_model_residuals, bins=20, kde=True)\n",
    "plt.title(\"Residual histogram\")\n",
    "plt.show()"
   ]
  },
  {
   "cell_type": "markdown",
   "id": "13ce46cc-9ef0-462b-a4dc-95ef5130a743",
   "metadata": {},
   "source": [
    "The most extreme errors are under predictions. I think under predicted LTVs are better than over predictions when feeding LTVs up to Google Ads as we don't want Google's bidding algorithm over bidding against certain outlier characteristics. For example the largest LTV underprediction is 28693 compared to a real value of 83325. 28693 is already high enough to signify to Google that it's a high value customer."
   ]
  },
  {
   "cell_type": "markdown",
   "id": "fec9ca3f-fb32-4546-b878-fa12d76896f4",
   "metadata": {},
   "source": [
    "Lets have a quick preview of the importance of different features"
   ]
  },
  {
   "cell_type": "code",
   "execution_count": 141,
   "id": "b9852040-b976-436a-8b96-c3218e0d2be1",
   "metadata": {},
   "outputs": [
    {
     "data": {
      "text/html": [
       "<div>\n",
       "<style scoped>\n",
       "    .dataframe tbody tr th:only-of-type {\n",
       "        vertical-align: middle;\n",
       "    }\n",
       "\n",
       "    .dataframe tbody tr th {\n",
       "        vertical-align: top;\n",
       "    }\n",
       "\n",
       "    .dataframe thead th {\n",
       "        text-align: right;\n",
       "    }\n",
       "</style>\n",
       "<table border=\"1\" class=\"dataframe\">\n",
       "  <thead>\n",
       "    <tr style=\"text-align: right;\">\n",
       "      <th></th>\n",
       "      <th>Feature</th>\n",
       "      <th>Importance</th>\n",
       "    </tr>\n",
       "  </thead>\n",
       "  <tbody>\n",
       "    <tr>\n",
       "      <th>7</th>\n",
       "      <td>num__Number of Policies</td>\n",
       "      <td>0.474323</td>\n",
       "    </tr>\n",
       "    <tr>\n",
       "      <th>4</th>\n",
       "      <td>num__Monthly Premium Auto</td>\n",
       "      <td>0.243068</td>\n",
       "    </tr>\n",
       "    <tr>\n",
       "      <th>5</th>\n",
       "      <td>num__Months Since Policy Inception</td>\n",
       "      <td>0.032372</td>\n",
       "    </tr>\n",
       "    <tr>\n",
       "      <th>3</th>\n",
       "      <td>num__Income</td>\n",
       "      <td>0.030650</td>\n",
       "    </tr>\n",
       "    <tr>\n",
       "      <th>2</th>\n",
       "      <td>ord__Education</td>\n",
       "      <td>0.009996</td>\n",
       "    </tr>\n",
       "    <tr>\n",
       "      <th>75</th>\n",
       "      <td>cat__Gender_M</td>\n",
       "      <td>0.007294</td>\n",
       "    </tr>\n",
       "    <tr>\n",
       "      <th>0</th>\n",
       "      <td>ord__Vehicle Size</td>\n",
       "      <td>0.006859</td>\n",
       "    </tr>\n",
       "    <tr>\n",
       "      <th>6</th>\n",
       "      <td>num__Number of Open Complaints</td>\n",
       "      <td>0.005817</td>\n",
       "    </tr>\n",
       "    <tr>\n",
       "      <th>70</th>\n",
       "      <td>cat__Effective To Date_2/9/11</td>\n",
       "      <td>0.005594</td>\n",
       "    </tr>\n",
       "    <tr>\n",
       "      <th>1</th>\n",
       "      <td>ord__Coverage</td>\n",
       "      <td>0.004891</td>\n",
       "    </tr>\n",
       "    <tr>\n",
       "      <th>93</th>\n",
       "      <td>cat__Sales Channel_Branch</td>\n",
       "      <td>0.004682</td>\n",
       "    </tr>\n",
       "    <tr>\n",
       "      <th>30</th>\n",
       "      <td>cat__Effective To Date_1/26/11</td>\n",
       "      <td>0.004409</td>\n",
       "    </tr>\n",
       "    <tr>\n",
       "      <th>90</th>\n",
       "      <td>cat__Renew Offer Type_Offer2</td>\n",
       "      <td>0.004180</td>\n",
       "    </tr>\n",
       "    <tr>\n",
       "      <th>57</th>\n",
       "      <td>cat__Effective To Date_2/22/11</td>\n",
       "      <td>0.003978</td>\n",
       "    </tr>\n",
       "    <tr>\n",
       "      <th>36</th>\n",
       "      <td>cat__Effective To Date_1/31/11</td>\n",
       "      <td>0.003879</td>\n",
       "    </tr>\n",
       "    <tr>\n",
       "      <th>12</th>\n",
       "      <td>cat__Response_Yes</td>\n",
       "      <td>0.003700</td>\n",
       "    </tr>\n",
       "    <tr>\n",
       "      <th>79</th>\n",
       "      <td>cat__Marital Status_Single</td>\n",
       "      <td>0.003673</td>\n",
       "    </tr>\n",
       "    <tr>\n",
       "      <th>76</th>\n",
       "      <td>cat__Location Code_Suburban</td>\n",
       "      <td>0.003491</td>\n",
       "    </tr>\n",
       "    <tr>\n",
       "      <th>78</th>\n",
       "      <td>cat__Marital Status_Married</td>\n",
       "      <td>0.003458</td>\n",
       "    </tr>\n",
       "    <tr>\n",
       "      <th>84</th>\n",
       "      <td>cat__Policy_Personal L1</td>\n",
       "      <td>0.003255</td>\n",
       "    </tr>\n",
       "    <tr>\n",
       "      <th>77</th>\n",
       "      <td>cat__Location Code_Urban</td>\n",
       "      <td>0.003244</td>\n",
       "    </tr>\n",
       "    <tr>\n",
       "      <th>94</th>\n",
       "      <td>cat__Sales Channel_Call Center</td>\n",
       "      <td>0.003086</td>\n",
       "    </tr>\n",
       "    <tr>\n",
       "      <th>91</th>\n",
       "      <td>cat__Renew Offer Type_Offer3</td>\n",
       "      <td>0.003060</td>\n",
       "    </tr>\n",
       "    <tr>\n",
       "      <th>63</th>\n",
       "      <td>cat__Effective To Date_2/28/11</td>\n",
       "      <td>0.003030</td>\n",
       "    </tr>\n",
       "    <tr>\n",
       "      <th>8</th>\n",
       "      <td>cat__State_California</td>\n",
       "      <td>0.003014</td>\n",
       "    </tr>\n",
       "    <tr>\n",
       "      <th>10</th>\n",
       "      <td>cat__State_Oregon</td>\n",
       "      <td>0.002999</td>\n",
       "    </tr>\n",
       "    <tr>\n",
       "      <th>86</th>\n",
       "      <td>cat__Policy_Personal L3</td>\n",
       "      <td>0.002987</td>\n",
       "    </tr>\n",
       "    <tr>\n",
       "      <th>71</th>\n",
       "      <td>cat__EmploymentStatus_Employed</td>\n",
       "      <td>0.002888</td>\n",
       "    </tr>\n",
       "    <tr>\n",
       "      <th>9</th>\n",
       "      <td>cat__State_Nevada</td>\n",
       "      <td>0.002855</td>\n",
       "    </tr>\n",
       "    <tr>\n",
       "      <th>24</th>\n",
       "      <td>cat__Effective To Date_1/20/11</td>\n",
       "      <td>0.002806</td>\n",
       "    </tr>\n",
       "  </tbody>\n",
       "</table>\n",
       "</div>"
      ],
      "text/plain": [
       "                               Feature  Importance\n",
       "7              num__Number of Policies    0.474323\n",
       "4            num__Monthly Premium Auto    0.243068\n",
       "5   num__Months Since Policy Inception    0.032372\n",
       "3                          num__Income    0.030650\n",
       "2                       ord__Education    0.009996\n",
       "75                       cat__Gender_M    0.007294\n",
       "0                    ord__Vehicle Size    0.006859\n",
       "6       num__Number of Open Complaints    0.005817\n",
       "70       cat__Effective To Date_2/9/11    0.005594\n",
       "1                        ord__Coverage    0.004891\n",
       "93           cat__Sales Channel_Branch    0.004682\n",
       "30      cat__Effective To Date_1/26/11    0.004409\n",
       "90        cat__Renew Offer Type_Offer2    0.004180\n",
       "57      cat__Effective To Date_2/22/11    0.003978\n",
       "36      cat__Effective To Date_1/31/11    0.003879\n",
       "12                   cat__Response_Yes    0.003700\n",
       "79          cat__Marital Status_Single    0.003673\n",
       "76         cat__Location Code_Suburban    0.003491\n",
       "78         cat__Marital Status_Married    0.003458\n",
       "84             cat__Policy_Personal L1    0.003255\n",
       "77            cat__Location Code_Urban    0.003244\n",
       "94      cat__Sales Channel_Call Center    0.003086\n",
       "91        cat__Renew Offer Type_Offer3    0.003060\n",
       "63      cat__Effective To Date_2/28/11    0.003030\n",
       "8                cat__State_California    0.003014\n",
       "10                   cat__State_Oregon    0.002999\n",
       "86             cat__Policy_Personal L3    0.002987\n",
       "71      cat__EmploymentStatus_Employed    0.002888\n",
       "9                    cat__State_Nevada    0.002855\n",
       "24      cat__Effective To Date_1/20/11    0.002806"
      ]
     },
     "execution_count": 141,
     "metadata": {},
     "output_type": "execute_result"
    }
   ],
   "source": [
    "# Get importance scores\n",
    "importances = best_model.feature_importances_\n",
    "# Map them to feature names\n",
    "feature_names = preprocessor.get_feature_names_out()\n",
    "importance_df = pd.DataFrame({\n",
    "    'Feature': feature_names,\n",
    "    'Importance': importances\n",
    "}).sort_values(by='Importance', ascending=False)\n",
    "importance_df.head(30)"
   ]
  },
  {
   "cell_type": "markdown",
   "id": "ee293486-3267-418b-8c14-0070f9086ee2",
   "metadata": {},
   "source": [
    "According to this the most important features are No. of policies and monthly premium amount. Other features are below 10%. I'm going to test what would happen if we had a more limited number of features  based on importance in the table above."
   ]
  },
  {
   "cell_type": "code",
   "execution_count": 142,
   "id": "f351a700-c928-42f2-97eb-d0d97b4e332a",
   "metadata": {},
   "outputs": [],
   "source": [
    "X_edited = X[[\"Number of Policies\",\"Monthly Premium Auto\",\"Months Since Policy Inception\",\"Income\",\"Education\"]]"
   ]
  },
  {
   "cell_type": "code",
   "execution_count": 143,
   "id": "4a0cedc3-b1c8-49dd-bba8-583306148496",
   "metadata": {},
   "outputs": [
    {
     "data": {
      "text/html": [
       "<div>\n",
       "<style scoped>\n",
       "    .dataframe tbody tr th:only-of-type {\n",
       "        vertical-align: middle;\n",
       "    }\n",
       "\n",
       "    .dataframe tbody tr th {\n",
       "        vertical-align: top;\n",
       "    }\n",
       "\n",
       "    .dataframe thead th {\n",
       "        text-align: right;\n",
       "    }\n",
       "</style>\n",
       "<table border=\"1\" class=\"dataframe\">\n",
       "  <thead>\n",
       "    <tr style=\"text-align: right;\">\n",
       "      <th></th>\n",
       "      <th>Number of Policies</th>\n",
       "      <th>Monthly Premium Auto</th>\n",
       "      <th>Months Since Policy Inception</th>\n",
       "      <th>Income</th>\n",
       "      <th>Education</th>\n",
       "    </tr>\n",
       "  </thead>\n",
       "  <tbody>\n",
       "    <tr>\n",
       "      <th>0</th>\n",
       "      <td>1</td>\n",
       "      <td>69</td>\n",
       "      <td>5</td>\n",
       "      <td>56274</td>\n",
       "      <td>Bachelor</td>\n",
       "    </tr>\n",
       "    <tr>\n",
       "      <th>1</th>\n",
       "      <td>8</td>\n",
       "      <td>94</td>\n",
       "      <td>42</td>\n",
       "      <td>0</td>\n",
       "      <td>Bachelor</td>\n",
       "    </tr>\n",
       "    <tr>\n",
       "      <th>2</th>\n",
       "      <td>2</td>\n",
       "      <td>108</td>\n",
       "      <td>38</td>\n",
       "      <td>48767</td>\n",
       "      <td>Bachelor</td>\n",
       "    </tr>\n",
       "    <tr>\n",
       "      <th>3</th>\n",
       "      <td>7</td>\n",
       "      <td>106</td>\n",
       "      <td>65</td>\n",
       "      <td>0</td>\n",
       "      <td>Bachelor</td>\n",
       "    </tr>\n",
       "    <tr>\n",
       "      <th>4</th>\n",
       "      <td>1</td>\n",
       "      <td>73</td>\n",
       "      <td>44</td>\n",
       "      <td>43836</td>\n",
       "      <td>Bachelor</td>\n",
       "    </tr>\n",
       "    <tr>\n",
       "      <th>...</th>\n",
       "      <td>...</td>\n",
       "      <td>...</td>\n",
       "      <td>...</td>\n",
       "      <td>...</td>\n",
       "      <td>...</td>\n",
       "    </tr>\n",
       "    <tr>\n",
       "      <th>9129</th>\n",
       "      <td>2</td>\n",
       "      <td>73</td>\n",
       "      <td>89</td>\n",
       "      <td>71941</td>\n",
       "      <td>Bachelor</td>\n",
       "    </tr>\n",
       "    <tr>\n",
       "      <th>9130</th>\n",
       "      <td>1</td>\n",
       "      <td>79</td>\n",
       "      <td>28</td>\n",
       "      <td>21604</td>\n",
       "      <td>College</td>\n",
       "    </tr>\n",
       "    <tr>\n",
       "      <th>9131</th>\n",
       "      <td>2</td>\n",
       "      <td>85</td>\n",
       "      <td>37</td>\n",
       "      <td>0</td>\n",
       "      <td>Bachelor</td>\n",
       "    </tr>\n",
       "    <tr>\n",
       "      <th>9132</th>\n",
       "      <td>3</td>\n",
       "      <td>96</td>\n",
       "      <td>3</td>\n",
       "      <td>21941</td>\n",
       "      <td>College</td>\n",
       "    </tr>\n",
       "    <tr>\n",
       "      <th>9133</th>\n",
       "      <td>1</td>\n",
       "      <td>77</td>\n",
       "      <td>90</td>\n",
       "      <td>0</td>\n",
       "      <td>College</td>\n",
       "    </tr>\n",
       "  </tbody>\n",
       "</table>\n",
       "<p>9134 rows × 5 columns</p>\n",
       "</div>"
      ],
      "text/plain": [
       "      Number of Policies  Monthly Premium Auto  Months Since Policy Inception  \\\n",
       "0                      1                    69                              5   \n",
       "1                      8                    94                             42   \n",
       "2                      2                   108                             38   \n",
       "3                      7                   106                             65   \n",
       "4                      1                    73                             44   \n",
       "...                  ...                   ...                            ...   \n",
       "9129                   2                    73                             89   \n",
       "9130                   1                    79                             28   \n",
       "9131                   2                    85                             37   \n",
       "9132                   3                    96                              3   \n",
       "9133                   1                    77                             90   \n",
       "\n",
       "      Income Education  \n",
       "0      56274  Bachelor  \n",
       "1          0  Bachelor  \n",
       "2      48767  Bachelor  \n",
       "3          0  Bachelor  \n",
       "4      43836  Bachelor  \n",
       "...      ...       ...  \n",
       "9129   71941  Bachelor  \n",
       "9130   21604   College  \n",
       "9131       0  Bachelor  \n",
       "9132   21941   College  \n",
       "9133       0   College  \n",
       "\n",
       "[9134 rows x 5 columns]"
      ]
     },
     "execution_count": 143,
     "metadata": {},
     "output_type": "execute_result"
    }
   ],
   "source": [
    "X_edited"
   ]
  },
  {
   "cell_type": "markdown",
   "id": "8383fb05-6293-44ef-b6d6-2f6a8039f5ae",
   "metadata": {},
   "source": [
    "### Now lets go through the process again"
   ]
  },
  {
   "cell_type": "code",
   "execution_count": 144,
   "id": "97b93e96-62a7-4436-a243-8c05fc0d35fc",
   "metadata": {},
   "outputs": [],
   "source": [
    "numeric_features = X_edited.select_dtypes(include=['int64', 'float64']).columns.tolist()\n",
    "preprocessor = ColumnTransformer(\n",
    "    transformers=[\n",
    "        ('num', RobustScaler(), numeric_features)\n",
    "    ]\n",
    ")"
   ]
  },
  {
   "cell_type": "code",
   "execution_count": 145,
   "id": "aea2a9d2-7942-4b59-aa57-8574435ff90c",
   "metadata": {},
   "outputs": [
    {
     "name": "stderr",
     "output_type": "stream",
     "text": [
      "C:\\Users\\matth\\anaconda3\\Lib\\site-packages\\sklearn\\neural_network\\_multilayer_perceptron.py:690: ConvergenceWarning: Stochastic Optimizer: Maximum iterations (500) reached and the optimization hasn't converged yet.\n",
      "  warnings.warn(\n",
      "C:\\Users\\matth\\anaconda3\\Lib\\site-packages\\sklearn\\neural_network\\_multilayer_perceptron.py:690: ConvergenceWarning: Stochastic Optimizer: Maximum iterations (500) reached and the optimization hasn't converged yet.\n",
      "  warnings.warn(\n",
      "C:\\Users\\matth\\anaconda3\\Lib\\site-packages\\sklearn\\neural_network\\_multilayer_perceptron.py:690: ConvergenceWarning: Stochastic Optimizer: Maximum iterations (500) reached and the optimization hasn't converged yet.\n",
      "  warnings.warn(\n"
     ]
    },
    {
     "name": "stdout",
     "output_type": "stream",
     "text": [
      "I've finished training MLP Regressor\n",
      "I've finished training Linear Regression\n",
      "I've finished training Lasso Regression\n",
      "I've finished training Ridge Regression\n",
      "I've finished training Decision Trees\n",
      "I've finished training Ada Boost Regressor\n",
      "I've finished training Random Forest Regressor\n",
      "I've finished training Support Vector Regressor\n",
      "I've finished training Gradient Boosting Regressor\n"
     ]
    }
   ],
   "source": [
    "the_results_2 = my_model_training(models,X_edited,y)"
   ]
  },
  {
   "cell_type": "code",
   "execution_count": 146,
   "id": "8cd0b2f5-84b1-4ccb-b37e-b8861974bc95",
   "metadata": {},
   "outputs": [],
   "source": [
    "the_results_try2 = pd.DataFrame(the_results_2).sort_values(by=[\"RMSE\",\"R2\",\"MAPE\",\"MAE\"], ascending=[True, True, True,True])"
   ]
  },
  {
   "cell_type": "code",
   "execution_count": 147,
   "id": "856b9119-8d82-4532-a957-942b690462c3",
   "metadata": {},
   "outputs": [
    {
     "data": {
      "text/html": [
       "<div>\n",
       "<style scoped>\n",
       "    .dataframe tbody tr th:only-of-type {\n",
       "        vertical-align: middle;\n",
       "    }\n",
       "\n",
       "    .dataframe tbody tr th {\n",
       "        vertical-align: top;\n",
       "    }\n",
       "\n",
       "    .dataframe thead th {\n",
       "        text-align: right;\n",
       "    }\n",
       "</style>\n",
       "<table border=\"1\" class=\"dataframe\">\n",
       "  <thead>\n",
       "    <tr style=\"text-align: right;\">\n",
       "      <th></th>\n",
       "      <th>Models</th>\n",
       "      <th>RMSE</th>\n",
       "      <th>R2</th>\n",
       "      <th>MAPE</th>\n",
       "      <th>MAE</th>\n",
       "    </tr>\n",
       "  </thead>\n",
       "  <tbody>\n",
       "    <tr>\n",
       "      <th>8</th>\n",
       "      <td>Gradient Boosting Regressor</td>\n",
       "      <td>3868.33</td>\n",
       "      <td>0.68</td>\n",
       "      <td>0.14</td>\n",
       "      <td>1729.40</td>\n",
       "    </tr>\n",
       "    <tr>\n",
       "      <th>6</th>\n",
       "      <td>Random Forest Regressor</td>\n",
       "      <td>4010.87</td>\n",
       "      <td>0.66</td>\n",
       "      <td>0.11</td>\n",
       "      <td>1526.18</td>\n",
       "    </tr>\n",
       "    <tr>\n",
       "      <th>5</th>\n",
       "      <td>Ada Boost Regressor</td>\n",
       "      <td>4285.47</td>\n",
       "      <td>0.61</td>\n",
       "      <td>0.26</td>\n",
       "      <td>2450.49</td>\n",
       "    </tr>\n",
       "    <tr>\n",
       "      <th>4</th>\n",
       "      <td>Decision Trees</td>\n",
       "      <td>5077.17</td>\n",
       "      <td>0.45</td>\n",
       "      <td>0.12</td>\n",
       "      <td>1706.67</td>\n",
       "    </tr>\n",
       "    <tr>\n",
       "      <th>0</th>\n",
       "      <td>MLP Regressor</td>\n",
       "      <td>5785.39</td>\n",
       "      <td>0.28</td>\n",
       "      <td>0.49</td>\n",
       "      <td>3374.68</td>\n",
       "    </tr>\n",
       "    <tr>\n",
       "      <th>1</th>\n",
       "      <td>Linear Regression</td>\n",
       "      <td>6300.74</td>\n",
       "      <td>0.16</td>\n",
       "      <td>0.60</td>\n",
       "      <td>3916.81</td>\n",
       "    </tr>\n",
       "    <tr>\n",
       "      <th>2</th>\n",
       "      <td>Lasso Regression</td>\n",
       "      <td>6303.54</td>\n",
       "      <td>0.16</td>\n",
       "      <td>0.60</td>\n",
       "      <td>3917.13</td>\n",
       "    </tr>\n",
       "    <tr>\n",
       "      <th>3</th>\n",
       "      <td>Ridge Regression</td>\n",
       "      <td>6304.52</td>\n",
       "      <td>0.16</td>\n",
       "      <td>0.60</td>\n",
       "      <td>3916.76</td>\n",
       "    </tr>\n",
       "    <tr>\n",
       "      <th>7</th>\n",
       "      <td>Support Vector Regressor</td>\n",
       "      <td>7176.32</td>\n",
       "      <td>-0.09</td>\n",
       "      <td>0.47</td>\n",
       "      <td>3963.05</td>\n",
       "    </tr>\n",
       "  </tbody>\n",
       "</table>\n",
       "</div>"
      ],
      "text/plain": [
       "                        Models     RMSE    R2  MAPE      MAE\n",
       "8  Gradient Boosting Regressor  3868.33  0.68  0.14  1729.40\n",
       "6      Random Forest Regressor  4010.87  0.66  0.11  1526.18\n",
       "5          Ada Boost Regressor  4285.47  0.61  0.26  2450.49\n",
       "4               Decision Trees  5077.17  0.45  0.12  1706.67\n",
       "0                MLP Regressor  5785.39  0.28  0.49  3374.68\n",
       "1            Linear Regression  6300.74  0.16  0.60  3916.81\n",
       "2             Lasso Regression  6303.54  0.16  0.60  3917.13\n",
       "3             Ridge Regression  6304.52  0.16  0.60  3916.76\n",
       "7     Support Vector Regressor  7176.32 -0.09  0.47  3963.05"
      ]
     },
     "execution_count": 147,
     "metadata": {},
     "output_type": "execute_result"
    }
   ],
   "source": [
    "the_results_try2"
   ]
  },
  {
   "cell_type": "code",
   "execution_count": 148,
   "id": "2ec6af60-aa09-48e0-bab9-60bfa0d9e878",
   "metadata": {},
   "outputs": [
    {
     "name": "stdout",
     "output_type": "stream",
     "text": [
      "Compared to the first try when we included all the columns\n"
     ]
    },
    {
     "data": {
      "text/html": [
       "<div>\n",
       "<style scoped>\n",
       "    .dataframe tbody tr th:only-of-type {\n",
       "        vertical-align: middle;\n",
       "    }\n",
       "\n",
       "    .dataframe tbody tr th {\n",
       "        vertical-align: top;\n",
       "    }\n",
       "\n",
       "    .dataframe thead th {\n",
       "        text-align: right;\n",
       "    }\n",
       "</style>\n",
       "<table border=\"1\" class=\"dataframe\">\n",
       "  <thead>\n",
       "    <tr style=\"text-align: right;\">\n",
       "      <th></th>\n",
       "      <th>Models</th>\n",
       "      <th>RMSE</th>\n",
       "      <th>R2</th>\n",
       "      <th>MAPE</th>\n",
       "      <th>MAE</th>\n",
       "    </tr>\n",
       "  </thead>\n",
       "  <tbody>\n",
       "    <tr>\n",
       "      <th>6</th>\n",
       "      <td>Random Forest Regressor</td>\n",
       "      <td>3795.50</td>\n",
       "      <td>0.69</td>\n",
       "      <td>0.10</td>\n",
       "      <td>1444.09</td>\n",
       "    </tr>\n",
       "    <tr>\n",
       "      <th>8</th>\n",
       "      <td>Gradient Boosting Regressor</td>\n",
       "      <td>3871.41</td>\n",
       "      <td>0.68</td>\n",
       "      <td>0.14</td>\n",
       "      <td>1736.51</td>\n",
       "    </tr>\n",
       "    <tr>\n",
       "      <th>0</th>\n",
       "      <td>MLP Regressor</td>\n",
       "      <td>4670.19</td>\n",
       "      <td>0.54</td>\n",
       "      <td>0.29</td>\n",
       "      <td>2636.13</td>\n",
       "    </tr>\n",
       "    <tr>\n",
       "      <th>4</th>\n",
       "      <td>Decision Trees</td>\n",
       "      <td>5094.39</td>\n",
       "      <td>0.45</td>\n",
       "      <td>0.12</td>\n",
       "      <td>1652.00</td>\n",
       "    </tr>\n",
       "    <tr>\n",
       "      <th>2</th>\n",
       "      <td>Lasso Regression</td>\n",
       "      <td>6314.69</td>\n",
       "      <td>0.15</td>\n",
       "      <td>0.60</td>\n",
       "      <td>3916.84</td>\n",
       "    </tr>\n",
       "    <tr>\n",
       "      <th>3</th>\n",
       "      <td>Ridge Regression</td>\n",
       "      <td>6315.94</td>\n",
       "      <td>0.15</td>\n",
       "      <td>0.60</td>\n",
       "      <td>3919.24</td>\n",
       "    </tr>\n",
       "    <tr>\n",
       "      <th>1</th>\n",
       "      <td>Linear Regression</td>\n",
       "      <td>6325.66</td>\n",
       "      <td>0.15</td>\n",
       "      <td>0.59</td>\n",
       "      <td>3920.47</td>\n",
       "    </tr>\n",
       "    <tr>\n",
       "      <th>5</th>\n",
       "      <td>Ada Boost Regressor</td>\n",
       "      <td>6450.39</td>\n",
       "      <td>0.10</td>\n",
       "      <td>0.73</td>\n",
       "      <td>5133.51</td>\n",
       "    </tr>\n",
       "    <tr>\n",
       "      <th>7</th>\n",
       "      <td>Support Vector Regressor</td>\n",
       "      <td>7196.48</td>\n",
       "      <td>-0.10</td>\n",
       "      <td>0.50</td>\n",
       "      <td>4045.57</td>\n",
       "    </tr>\n",
       "  </tbody>\n",
       "</table>\n",
       "</div>"
      ],
      "text/plain": [
       "                        Models     RMSE    R2  MAPE      MAE\n",
       "6      Random Forest Regressor  3795.50  0.69  0.10  1444.09\n",
       "8  Gradient Boosting Regressor  3871.41  0.68  0.14  1736.51\n",
       "0                MLP Regressor  4670.19  0.54  0.29  2636.13\n",
       "4               Decision Trees  5094.39  0.45  0.12  1652.00\n",
       "2             Lasso Regression  6314.69  0.15  0.60  3916.84\n",
       "3             Ridge Regression  6315.94  0.15  0.60  3919.24\n",
       "1            Linear Regression  6325.66  0.15  0.59  3920.47\n",
       "5          Ada Boost Regressor  6450.39  0.10  0.73  5133.51\n",
       "7     Support Vector Regressor  7196.48 -0.10  0.50  4045.57"
      ]
     },
     "execution_count": 148,
     "metadata": {},
     "output_type": "execute_result"
    }
   ],
   "source": [
    "print(\"Compared to the first try when we included all the columns\")\n",
    "the_results_1st_try"
   ]
  },
  {
   "cell_type": "markdown",
   "id": "e995ca35-c27a-4719-b2f7-169b6b57c99a",
   "metadata": {},
   "source": [
    "Triming the number of features to the top 5 didn't improve the performance metrics of most models. The best model still remains Random Forest Regressor when trained on all the columns. There is evidence that Gradient Boosting Regressor improved in some of the performance metrics when reduce the number of features however it's still not as good as training the Random Forest regressor on all features. The average RMSE of the best model is still too higher for roling this model out into production in my view. Therefore lets do some hyperparameter tuning with the 3 best models from the orginal training."
   ]
  },
  {
   "cell_type": "markdown",
   "id": "c820f38f-7af5-48a4-b771-9c36c9847cb8",
   "metadata": {},
   "source": [
    "# 5. Hyperparameter tuning"
   ]
  },
  {
   "cell_type": "code",
   "execution_count": 149,
   "id": "60344c91-0c17-488e-b4bb-8cd4f3f5fa1f",
   "metadata": {},
   "outputs": [],
   "source": [
    "# Lets use grid search\n",
    "from sklearn.model_selection import GridSearchCV\n",
    "from sklearn.pipeline import Pipeline"
   ]
  },
  {
   "cell_type": "code",
   "execution_count": 150,
   "id": "10fcfe70-f497-4c4c-89ac-c677d6947221",
   "metadata": {},
   "outputs": [],
   "source": [
    "# Repeating this incase it was distorted in anyway whilst doing the second training\n",
    "ordinal_features = [\"Vehicle Size\", \"Coverage\", \"Education\"]\n",
    "categories = []\n",
    "for col in ordinal_features:\n",
    "    unique_values = X[col].unique().tolist()\n",
    "    categories.append(unique_values)  # Keep the actual categories\n",
    "    \n",
    "numeric_features = X.select_dtypes(include=['int64', 'float64']).columns.tolist()\n",
    "categorical_features = X.select_dtypes(include=['object', 'category']).columns.tolist()\n",
    "categorical_features = [col for col in categorical_features if col not in ordinal_features]\n",
    "\n",
    "preprocessor = ColumnTransformer(\n",
    "    transformers=[\n",
    "        (\"ord\", OrdinalEncoder(categories=categories), ordinal_features),\n",
    "        ('num', RobustScaler(), numeric_features),\n",
    "        ('cat', OneHotEncoder(sparse_output=False, drop='first'), categorical_features)  \n",
    "    ]\n",
    ")"
   ]
  },
  {
   "cell_type": "markdown",
   "id": "1a57ebcc-d89d-4fea-90ad-4e9d371549e6",
   "metadata": {},
   "source": [
    "Note that originally did gridsearch on more hyperparameters but for the sake of markers of this project I have reduced them (but still included the optimal outputs from when I trained more)"
   ]
  },
  {
   "cell_type": "code",
   "execution_count": 151,
   "id": "b222b5f8-b8d3-4abf-b49a-98be351d75e3",
   "metadata": {},
   "outputs": [],
   "source": [
    "param_grids = {\n",
    "      \"MLP Regressor\": {\"regressor__max_iter\": [500,750],\n",
    "                        \"regressor__learning_rate_init\": [0.005,0.01,0.05]\n",
    "    },\n",
    "    \"Random Forest Regressor\": {\n",
    "        \"regressor__n_estimators\": [100, 200, 300],\n",
    "        \"regressor__max_features\": [None, 2, 5, 10],\n",
    "        \"regressor__max_depth\": [None, 2, 5, 10, 15, 20],\n",
    "        \"regressor__min_samples_split\": [2, 4, 8]\n",
    "    },\n",
    "    \"Gradient Boosting Regressor\": {\n",
    "        \"regressor__n_estimators\": [50,  100],\n",
    "        \"regressor__learning_rate\": [0.01, 0.1, 0.2],\n",
    "        \"regressor__max_depth\": [3, 5, 7]  # Removed None\n",
    "    }\n",
    "  \n",
    "}\n",
    "\n",
    "models = {\n",
    "    \"MLP Regressor\": MLPRegressor(),\n",
    "    \"Random Forest Regressor\": RandomForestRegressor(n_jobs=-1),\n",
    "    \"Gradient Boosting Regressor\": GradientBoostingRegressor()\n",
    "\n",
    "}\n",
    "\n",
    "scoring = {\n",
    "    \"mae\": \"neg_mean_absolute_error\",\n",
    "    \"rmse\": \"neg_root_mean_squared_error\",\n",
    "    \"r2\": \"r2\"\n",
    "}"
   ]
  },
  {
   "cell_type": "code",
   "execution_count": 152,
   "id": "f3fbce71-dc99-4b3a-abb1-6984360dcbd7",
   "metadata": {},
   "outputs": [
    {
     "name": "stdout",
     "output_type": "stream",
     "text": [
      "Now tuning: MLP Regressor\n"
     ]
    },
    {
     "name": "stderr",
     "output_type": "stream",
     "text": [
      "C:\\Users\\matth\\anaconda3\\Lib\\site-packages\\sklearn\\neural_network\\_multilayer_perceptron.py:690: ConvergenceWarning: Stochastic Optimizer: Maximum iterations (750) reached and the optimization hasn't converged yet.\n",
      "  warnings.warn(\n"
     ]
    },
    {
     "name": "stdout",
     "output_type": "stream",
     "text": [
      "Now tuning: Random Forest Regressor\n",
      "Now tuning: Gradient Boosting Regressor\n"
     ]
    }
   ],
   "source": [
    "best_models = {}\n",
    "best_params = {}\n",
    "results = []\n",
    "\n",
    "for name, model in models.items():\n",
    "    print(\"Now tuning:\", name)\n",
    "\n",
    "    pipeline = Pipeline([\n",
    "        (\"preprocessor\", preprocessor),\n",
    "        (\"regressor\", model)\n",
    "    ])\n",
    "\n",
    "    search = GridSearchCV(\n",
    "        estimator=pipeline,\n",
    "        param_grid=param_grids[name],\n",
    "        cv=4,\n",
    "        scoring=scoring,\n",
    "        refit=\"rmse\",\n",
    "        return_train_score=True,\n",
    "        n_jobs=-1,\n",
    "        verbose=0\n",
    "    )\n",
    "\n",
    "    search.fit(X, y)\n",
    "\n",
    "    best_models[name] = search.best_estimator_\n",
    "    best_params[name] = search.best_params_\n",
    "    best_score = search.best_score_\n",
    "\n",
    "    y_train_pred = search.best_estimator_.predict(X_train)\n",
    "    y_test_pred = search.best_estimator_.predict(X_test)\n",
    "    \n",
    "    rmse_train = root_mean_squared_error(y_train, y_train_pred)\n",
    "    mape_train = mean_absolute_percentage_error(y_train, y_train_pred)\n",
    "    mae_train = mean_absolute_error(y_train, y_train_pred)\n",
    "    r2_train = r2_score(y_train, y_train_pred)\n",
    "    rmse_test = root_mean_squared_error(y_test, y_test_pred)\n",
    "    mape_test = mean_absolute_percentage_error(y_test, y_test_pred)\n",
    "    mae_test = mean_absolute_error(y_test, y_test_pred)\n",
    "    r2_test = r2_score(y_test, y_test_pred)\n",
    "    \n",
    "    results.append({\n",
    "        \"model\": name,\n",
    "        \"best params\": search.best_params_,\n",
    "        \"best score\": best_score,\n",
    "        \"mae train\": mae_train,\n",
    "        \"rmse train\": rmse_train,\n",
    "        \"mape train\": mape_train,\n",
    "        \"r2 train\": r2_train,\n",
    "        \"mae test\": mae_test,\n",
    "        \"rmse test\": rmse_test,\n",
    "        \"mape test\": mape_test,\n",
    "         \"r2 test\": r2_test\n",
    "    })\n"
   ]
  },
  {
   "cell_type": "code",
   "execution_count": 153,
   "id": "76d48d51-f0df-4988-9060-a91da1e7111e",
   "metadata": {},
   "outputs": [],
   "source": [
    "the_results_hyper_tune = pd.DataFrame(results)"
   ]
  },
  {
   "cell_type": "code",
   "execution_count": 154,
   "id": "5c454929-8ced-435e-8723-ee35ccd620ee",
   "metadata": {},
   "outputs": [
    {
     "data": {
      "text/html": [
       "<div>\n",
       "<style scoped>\n",
       "    .dataframe tbody tr th:only-of-type {\n",
       "        vertical-align: middle;\n",
       "    }\n",
       "\n",
       "    .dataframe tbody tr th {\n",
       "        vertical-align: top;\n",
       "    }\n",
       "\n",
       "    .dataframe thead th {\n",
       "        text-align: right;\n",
       "    }\n",
       "</style>\n",
       "<table border=\"1\" class=\"dataframe\">\n",
       "  <thead>\n",
       "    <tr style=\"text-align: right;\">\n",
       "      <th></th>\n",
       "      <th>model</th>\n",
       "      <th>best params</th>\n",
       "      <th>best score</th>\n",
       "      <th>mae train</th>\n",
       "      <th>rmse train</th>\n",
       "      <th>mape train</th>\n",
       "      <th>r2 train</th>\n",
       "      <th>mae test</th>\n",
       "      <th>rmse test</th>\n",
       "      <th>mape test</th>\n",
       "      <th>r2 test</th>\n",
       "    </tr>\n",
       "  </thead>\n",
       "  <tbody>\n",
       "    <tr>\n",
       "      <th>0</th>\n",
       "      <td>MLP Regressor</td>\n",
       "      <td>{'regressor__learning_rate_init': 0.005, 'regr...</td>\n",
       "      <td>-4188.13</td>\n",
       "      <td>1802.69</td>\n",
       "      <td>3594.90</td>\n",
       "      <td>0.18</td>\n",
       "      <td>0.73</td>\n",
       "      <td>1712.61</td>\n",
       "      <td>3490.17</td>\n",
       "      <td>0.17</td>\n",
       "      <td>0.74</td>\n",
       "    </tr>\n",
       "    <tr>\n",
       "      <th>1</th>\n",
       "      <td>Random Forest Regressor</td>\n",
       "      <td>{'regressor__max_depth': None, 'regressor__max...</td>\n",
       "      <td>-3739.75</td>\n",
       "      <td>523.97</td>\n",
       "      <td>1386.72</td>\n",
       "      <td>0.04</td>\n",
       "      <td>0.96</td>\n",
       "      <td>514.84</td>\n",
       "      <td>1436.07</td>\n",
       "      <td>0.04</td>\n",
       "      <td>0.96</td>\n",
       "    </tr>\n",
       "    <tr>\n",
       "      <th>2</th>\n",
       "      <td>Gradient Boosting Regressor</td>\n",
       "      <td>{'regressor__learning_rate': 0.1, 'regressor__...</td>\n",
       "      <td>-3818.46</td>\n",
       "      <td>1198.09</td>\n",
       "      <td>2775.57</td>\n",
       "      <td>0.09</td>\n",
       "      <td>0.84</td>\n",
       "      <td>1171.18</td>\n",
       "      <td>2711.73</td>\n",
       "      <td>0.09</td>\n",
       "      <td>0.84</td>\n",
       "    </tr>\n",
       "  </tbody>\n",
       "</table>\n",
       "</div>"
      ],
      "text/plain": [
       "                         model  \\\n",
       "0                MLP Regressor   \n",
       "1      Random Forest Regressor   \n",
       "2  Gradient Boosting Regressor   \n",
       "\n",
       "                                         best params  best score  mae train  \\\n",
       "0  {'regressor__learning_rate_init': 0.005, 'regr...    -4188.13    1802.69   \n",
       "1  {'regressor__max_depth': None, 'regressor__max...    -3739.75     523.97   \n",
       "2  {'regressor__learning_rate': 0.1, 'regressor__...    -3818.46    1198.09   \n",
       "\n",
       "   rmse train  mape train  r2 train  mae test  rmse test  mape test  r2 test  \n",
       "0     3594.90        0.18      0.73   1712.61    3490.17       0.17     0.74  \n",
       "1     1386.72        0.04      0.96    514.84    1436.07       0.04     0.96  \n",
       "2     2775.57        0.09      0.84   1171.18    2711.73       0.09     0.84  "
      ]
     },
     "execution_count": 154,
     "metadata": {},
     "output_type": "execute_result"
    }
   ],
   "source": [
    "np.round(the_results_hyper_tune,2)"
   ]
  },
  {
   "cell_type": "code",
   "execution_count": 155,
   "id": "7dcbf7a7-74c0-4ad9-86f3-eca433e6b74a",
   "metadata": {},
   "outputs": [
    {
     "data": {
      "text/html": [
       "<div>\n",
       "<style scoped>\n",
       "    .dataframe tbody tr th:only-of-type {\n",
       "        vertical-align: middle;\n",
       "    }\n",
       "\n",
       "    .dataframe tbody tr th {\n",
       "        vertical-align: top;\n",
       "    }\n",
       "\n",
       "    .dataframe thead th {\n",
       "        text-align: right;\n",
       "    }\n",
       "</style>\n",
       "<table border=\"1\" class=\"dataframe\">\n",
       "  <thead>\n",
       "    <tr style=\"text-align: right;\">\n",
       "      <th></th>\n",
       "      <th>Models</th>\n",
       "      <th>RMSE</th>\n",
       "      <th>R2</th>\n",
       "      <th>MAPE</th>\n",
       "      <th>MAE</th>\n",
       "    </tr>\n",
       "  </thead>\n",
       "  <tbody>\n",
       "    <tr>\n",
       "      <th>6</th>\n",
       "      <td>Random Forest Regressor</td>\n",
       "      <td>3795.50</td>\n",
       "      <td>0.69</td>\n",
       "      <td>0.10</td>\n",
       "      <td>1444.09</td>\n",
       "    </tr>\n",
       "    <tr>\n",
       "      <th>8</th>\n",
       "      <td>Gradient Boosting Regressor</td>\n",
       "      <td>3871.41</td>\n",
       "      <td>0.68</td>\n",
       "      <td>0.14</td>\n",
       "      <td>1736.51</td>\n",
       "    </tr>\n",
       "    <tr>\n",
       "      <th>0</th>\n",
       "      <td>MLP Regressor</td>\n",
       "      <td>4670.19</td>\n",
       "      <td>0.54</td>\n",
       "      <td>0.29</td>\n",
       "      <td>2636.13</td>\n",
       "    </tr>\n",
       "  </tbody>\n",
       "</table>\n",
       "</div>"
      ],
      "text/plain": [
       "                        Models     RMSE    R2  MAPE      MAE\n",
       "6      Random Forest Regressor  3795.50  0.69  0.10  1444.09\n",
       "8  Gradient Boosting Regressor  3871.41  0.68  0.14  1736.51\n",
       "0                MLP Regressor  4670.19  0.54  0.29  2636.13"
      ]
     },
     "execution_count": 155,
     "metadata": {},
     "output_type": "execute_result"
    }
   ],
   "source": [
    "# compared to the first round\n",
    "\n",
    "the_results_1st_try[0:3]"
   ]
  },
  {
   "cell_type": "code",
   "execution_count": 156,
   "id": "d55c5864-7326-4a93-8fa1-f741509bcc8e",
   "metadata": {},
   "outputs": [
    {
     "name": "stdout",
     "output_type": "stream",
     "text": [
      "Mean of the target variable is 8004.94\n",
      "Maximum of the target variable is 83325.38\n",
      "Minimum of the target variable is 1898.01\n",
      "Standard deviation of the target variable is 6870.59\n"
     ]
    }
   ],
   "source": [
    "# Lets add some original metrics on the data for comparison\n",
    "\n",
    "lifetime_value = np.array(core_data[\"Customer Lifetime Value\"])\n",
    "print(\"Mean of the target variable is\", np.round(np.mean(lifetime_value),2))\n",
    "print(\"Maximum of the target variable is\", np.round(np.max(lifetime_value),2))\n",
    "print(\"Minimum of the target variable is\", np.round(np.min(lifetime_value),2))\n",
    "print(\"Standard deviation of the target variable is\", np.round(np.std(lifetime_value),2))"
   ]
  },
  {
   "cell_type": "code",
   "execution_count": 157,
   "id": "9cfdd4d9-ddad-49cb-a640-bb4a563359c0",
   "metadata": {},
   "outputs": [
    {
     "name": "stdout",
     "output_type": "stream",
     "text": [
      "Baseline mean absolute error is 4320.02\n",
      "Baseline root mean absolute error is 6813.79\n",
      "Baseline mean absolute percentage error is 0.73\n",
      "Baseline R2 Score is -0.0\n"
     ]
    }
   ],
   "source": [
    "# And lets add the baseline results what we should imp\n",
    "y_pred_mean = np.full_like(y_test,np.mean(y_train))\n",
    "mae_baseline = mean_absolute_error(y_test, y_pred_mean)\n",
    "rmse_baseline = root_mean_squared_error(y_test,y_pred_mean)\n",
    "mape_baseline = mean_absolute_percentage_error(y_test, y_pred_mean)\n",
    "r2_baseline = r2_score(y_test,y_pred_mean)\n",
    "\n",
    "print(\"Baseline mean absolute error is\", np.round(mae_baseline,2))\n",
    "print(\"Baseline root mean absolute error is\", np.round(rmse_baseline,2))\n",
    "print(\"Baseline mean absolute percentage error is\",np.round(mape_baseline,2))\n",
    "print(\"Baseline R2 Score is\", np.round(r2_baseline,3))"
   ]
  },
  {
   "cell_type": "markdown",
   "id": "2fcf4e9b-ca2d-4f6b-951b-30c8092d4fb3",
   "metadata": {},
   "source": [
    "Our best crossvalidated RMSE score was 3737 when I last ran the code using the Random Forest Regressor compared to the 7051.87 RMSE for simply taking the mean LTV as the prediction, and 3890 when using the default hyperparameters. Hyperparmeter tuning therefore did improve RMSE scores compared to using the default hyperparameter values but not by much. Considering that the mean LTV value is 8000.94 a RMSE of around 3737 isn't great. When just using train_test_split method the loss scores were better, getting to as low as 853 for MAE, and 2119.95 for RMSE. Now lets see what the best params for each model were. "
   ]
  },
  {
   "cell_type": "code",
   "execution_count": 158,
   "id": "90203c86-2413-45aa-b66c-dfcfe1e8c65a",
   "metadata": {},
   "outputs": [
    {
     "name": "stdout",
     "output_type": "stream",
     "text": [
      "Best params for MLP Regressor was {'regressor__learning_rate_init': 0.005, 'regressor__max_iter': 750}\n"
     ]
    }
   ],
   "source": [
    "print(\"Best params for MLP Regressor was\",the_results_hyper_tune[\"best params\"][0])"
   ]
  },
  {
   "cell_type": "code",
   "execution_count": 159,
   "id": "e349d87e-b9df-4d2b-98d9-fe9b8d50251f",
   "metadata": {},
   "outputs": [
    {
     "name": "stdout",
     "output_type": "stream",
     "text": [
      "Best params for Random Forest Regressor was {'regressor__max_depth': None, 'regressor__max_features': None, 'regressor__min_samples_split': 2, 'regressor__n_estimators': 200}\n"
     ]
    }
   ],
   "source": [
    "print(\"Best params for Random Forest Regressor was\",the_results_hyper_tune[\"best params\"][1])"
   ]
  },
  {
   "cell_type": "code",
   "execution_count": 160,
   "id": "8d2a49cc-c514-489d-98d6-7ba9546af7d0",
   "metadata": {},
   "outputs": [
    {
     "name": "stdout",
     "output_type": "stream",
     "text": [
      "Best params for Gradient Boosting Regresso was {'regressor__learning_rate': 0.1, 'regressor__max_depth': 7, 'regressor__n_estimators': 50}\n"
     ]
    }
   ],
   "source": [
    "print(\"Best params for Gradient Boosting Regresso was\",the_results_hyper_tune[\"best params\"][2])"
   ]
  },
  {
   "cell_type": "markdown",
   "id": "9156d604-7384-4bda-bf6e-5f943ecd7451",
   "metadata": {},
   "source": [
    "##### Now lets reanalysis the residuals i.e. the difference between the actual LTV values and those prediced."
   ]
  },
  {
   "cell_type": "code",
   "execution_count": 161,
   "id": "fe663682-b423-420c-8397-0755ae5a889c",
   "metadata": {},
   "outputs": [],
   "source": [
    "best_model = RandomForestRegressor(max_depth=16, max_features=None, min_samples_split=4, n_estimators=250)\n",
    "best_model.fit(X_train_processed_, y_train)\n",
    "y_pred = best_model.predict(X_test_processed_)\n",
    "best_model_residuals = y_pred - y_test"
   ]
  },
  {
   "cell_type": "code",
   "execution_count": 162,
   "id": "4855d6d7-f459-4bed-8862-be3d073ab959",
   "metadata": {},
   "outputs": [
    {
     "data": {
      "image/png": "[encoded data removed]",
      "text/plain": [
       "<Figure size 640x480 with 1 Axes>"
      ]
     },
     "metadata": {},
     "output_type": "display_data"
    }
   ],
   "source": [
    "import seaborn as sns\n",
    "sns.histplot(best_model_residuals, bins=20, kde=True)\n",
    "plt.title(\"Residual histogram\")\n",
    "plt.show()"
   ]
  },
  {
   "cell_type": "markdown",
   "id": "eda7ef8a-b012-46e0-8aa4-60d51ab6a25a",
   "metadata": {},
   "source": [
    "The residuals cluster around 0 with the larger residuals becoming less common. Now lets look at where the bulk of the acutal LTV values lie, i.e. below 10,000."
   ]
  },
  {
   "cell_type": "code",
   "execution_count": 163,
   "id": "a030af8b-5afe-4a2d-97b3-34d18bd5f94c",
   "metadata": {},
   "outputs": [
    {
     "data": {
      "image/png": "[encoded data removed]",
      "text/plain": [
       "<Figure size 640x480 with 1 Axes>"
      ]
     },
     "metadata": {},
     "output_type": "display_data"
    }
   ],
   "source": [
    "mask = y_test < 10000\n",
    "y_test_trim = y_test[mask]\n",
    "y_pred_trim = y_pred[mask]\n",
    "residuals_trimed = y_pred_trim - y_test_trim\n",
    "\n",
    "import seaborn as sns\n",
    "sns.histplot(residuals_trimed, bins=20, kde=True)\n",
    "plt.title(\"Residual histogram\")\n",
    "plt.show()"
   ]
  },
  {
   "cell_type": "code",
   "execution_count": 164,
   "id": "82a21cf4-99c1-4154-8dc1-5623ec7cda71",
   "metadata": {},
   "outputs": [
    {
     "name": "stdout",
     "output_type": "stream",
     "text": [
      "RMSE of only using real LTVs of under 10000 is 1169.28\n"
     ]
    }
   ],
   "source": [
    "print(\"RMSE of only using real LTVs of under 10000 is\",np.round(root_mean_squared_error(y_test_trim, y_pred_trim),2))\n"
   ]
  },
  {
   "cell_type": "markdown",
   "id": "af78c534-7ed5-4d0e-9465-8e0209b1ef00",
   "metadata": {},
   "source": [
    "The residuals get are less when predicting LTV where the real LTV are also low. This is positive as it shows the larger errors are where the actual LTV is already higher."
   ]
  },
  {
   "cell_type": "code",
   "execution_count": 165,
   "id": "9e1ea383-b546-409e-a01b-9cd2c749f840",
   "metadata": {},
   "outputs": [
    {
     "data": {
      "image/png": "[encoded data removed]",
      "text/plain": [
       "<Figure size 640x480 with 1 Axes>"
      ]
     },
     "metadata": {},
     "output_type": "display_data"
    }
   ],
   "source": [
    "plt.scatter(y_test,best_model_residuals,s = 3)\n",
    "plt.xlabel(\"Actual LTV\")\n",
    "plt.ylabel(\"Difference from predicted LTV\")\n",
    "plt.title(\"Actual LTV vs Residuals (Predicted LTV minus Actual LTV)\")\n",
    "plt.show()"
   ]
  },
  {
   "cell_type": "markdown",
   "id": "50926c9f-c79e-4673-80a8-29ce09d4ace9",
   "metadata": {},
   "source": [
    "In the scatterplot over estimates appear between actual LTV values of 8,000 to 20,000. Underestimates occur from where the real LTV values are above 10,000. I believe this is satisfactory."
   ]
  },
  {
   "cell_type": "code",
   "execution_count": 109,
   "id": "fdd11ef7-5124-4220-88d7-88029a144a7c",
   "metadata": {},
   "outputs": [
    {
     "data": {
      "image/png": "[encoded data removed]",
      "text/plain": [
       "<Figure size 640x480 with 1 Axes>"
      ]
     },
     "metadata": {},
     "output_type": "display_data"
    }
   ],
   "source": [
    "# Now lets look at residuals where real LTV is below 10,000 USD\n",
    "plt.scatter(y_test_trim,residuals_trimed,s = 3)\n",
    "plt.xlabel(\"Actual LTV\")\n",
    "plt.ylabel(\"Difference from predicted LTV\")\n",
    "plt.title(\"Actual LTV vs Residuals (Predicted LTV minus Actual LTV) - Actual LTV under $10,000\")\n",
    "plt.show()"
   ]
  },
  {
   "cell_type": "markdown",
   "id": "82e1a310-1e53-4d79-9fe6-881a704fb872",
   "metadata": {},
   "source": [
    "The RMSE when looking at only real LTV values (y_test) of under 10,000 USD is lower than when calculating it for the whole data set. This makes the RMSE of the proposed model more acceptable to use in production in way I intended to use it (i.e. being fed as revenue figures back into the Ads platforms). In the scatterplot above most residuals for real LTV values of under 10,000 were below 500 though there is a spate of over predictions above for real LTV values of over 6,000."
   ]
  },
  {
   "cell_type": "code",
   "execution_count": 121,
   "id": "b78aab0a-6ce5-475c-a376-4ef5123d61b1",
   "metadata": {},
   "outputs": [
    {
     "name": "stdout",
     "output_type": "stream",
     "text": [
      "182 out of 1808 had a residual of over 500\n"
     ]
    }
   ],
   "source": [
    "residuals_trimed_count = residuals_trimed > 500\n",
    "print(residuals_trimed_count.sum(), \"out of\", residuals_trimed_count.count(), \"had a residual of over 500\")"
   ]
  },
  {
   "cell_type": "code",
   "execution_count": 122,
   "id": "b6589900-a6e1-42c4-90db-e3581557f6b1",
   "metadata": {},
   "outputs": [
    {
     "name": "stdout",
     "output_type": "stream",
     "text": [
      "4 out of 1808 had a residual of under -500\n"
     ]
    }
   ],
   "source": [
    "residuals_trimed_count = residuals_trimed < -500\n",
    "print(residuals_trimed_count.sum(), \"out of\", residuals_trimed_count.count(), \"had a residual of under -500\")"
   ]
  },
  {
   "cell_type": "code",
   "execution_count": 123,
   "id": "d4ae77f7-eac4-4e08-b68e-653c35a187b4",
   "metadata": {},
   "outputs": [
    {
     "name": "stdout",
     "output_type": "stream",
     "text": [
      "Spearman correlation: 0.981\n",
      "P-value: 0.000\n"
     ]
    }
   ],
   "source": [
    "# Now lets run some classic statistics to check the predicted LTVs appear in the same order as the actual LTVs\n",
    "\n",
    "from scipy.stats import spearmanr\n",
    "\n",
    "# Example: comparing two ranked variables\n",
    "rho, pval = spearmanr(y_test, y_pred)\n",
    "\n",
    "print(f\"Spearman correlation: {rho:.3f}\")\n",
    "print(f\"P-value: {pval:.3f}\")"
   ]
  },
  {
   "cell_type": "code",
   "execution_count": 124,
   "id": "1b8e221c-2012-47a3-b579-dd242afbf6a1",
   "metadata": {},
   "outputs": [
    {
     "name": "stdout",
     "output_type": "stream",
     "text": [
      "Spearman correlation: 0.457\n",
      "P-value: 0.000\n"
     ]
    }
   ],
   "source": [
    "# Now is using these LTV calculations any better than simply using monthly premium\n",
    "\n",
    "from scipy.stats import spearmanr\n",
    "\n",
    "# Example: comparing two ranked variables\n",
    "rho, pval = spearmanr(y_test, X_test[\"Monthly Premium Auto\"])\n",
    "\n",
    "print(f\"Spearman correlation: {rho:.3f}\")\n",
    "print(f\"P-value: {pval:.3f}\")"
   ]
  },
  {
   "cell_type": "markdown",
   "id": "0e8d22ae-5851-4134-aba8-bce0e594bfdb",
   "metadata": {},
   "source": [
    "Using spearman rank correlation shows that the predicted LTVs are pretty much in order of the actual LTVs. I've also established that the order of the predicted LTVs are far more closer to the order of the real LTV than just using the order of Monthly Premium Auto column values."
   ]
  },
  {
   "cell_type": "markdown",
   "id": "d38417d5-a174-44fc-b8c5-a8e743b58cb1",
   "metadata": {},
   "source": [
    "# 6. Model Interpretation"
   ]
  },
  {
   "cell_type": "code",
   "execution_count": 125,
   "id": "0f682cd0-4232-4903-a276-d5be3a7f62e8",
   "metadata": {},
   "outputs": [
    {
     "data": {
      "image/png": "[encoded data removed]",
      "text/plain": [
       "<Figure size 800x950 with 2 Axes>"
      ]
     },
     "metadata": {},
     "output_type": "display_data"
    }
   ],
   "source": [
    "import shap\n",
    "\n",
    "explainer = shap.Explainer(best_model)\n",
    "shap_values = explainer(X_test_processed_df)\n",
    "\n",
    "shap.summary_plot(shap_values, X_test_processed_df)"
   ]
  },
  {
   "cell_type": "code",
   "execution_count": 126,
   "id": "a6201248-b363-4d6f-9484-a05a37ca6780",
   "metadata": {},
   "outputs": [
    {
     "data": {
      "text/html": [
       "<div>\n",
       "<style scoped>\n",
       "    .dataframe tbody tr th:only-of-type {\n",
       "        vertical-align: middle;\n",
       "    }\n",
       "\n",
       "    .dataframe tbody tr th {\n",
       "        vertical-align: top;\n",
       "    }\n",
       "\n",
       "    .dataframe thead th {\n",
       "        text-align: right;\n",
       "    }\n",
       "</style>\n",
       "<table border=\"1\" class=\"dataframe\">\n",
       "  <thead>\n",
       "    <tr style=\"text-align: right;\">\n",
       "      <th></th>\n",
       "      <th>Feature</th>\n",
       "      <th>Importance</th>\n",
       "    </tr>\n",
       "  </thead>\n",
       "  <tbody>\n",
       "    <tr>\n",
       "      <th>7</th>\n",
       "      <td>num__Number of Policies</td>\n",
       "      <td>0.508488</td>\n",
       "    </tr>\n",
       "    <tr>\n",
       "      <th>4</th>\n",
       "      <td>num__Monthly Premium Auto</td>\n",
       "      <td>0.254589</td>\n",
       "    </tr>\n",
       "    <tr>\n",
       "      <th>5</th>\n",
       "      <td>num__Months Since Policy Inception</td>\n",
       "      <td>0.027656</td>\n",
       "    </tr>\n",
       "    <tr>\n",
       "      <th>3</th>\n",
       "      <td>num__Income</td>\n",
       "      <td>0.026283</td>\n",
       "    </tr>\n",
       "    <tr>\n",
       "      <th>2</th>\n",
       "      <td>ord__Education</td>\n",
       "      <td>0.009258</td>\n",
       "    </tr>\n",
       "    <tr>\n",
       "      <th>70</th>\n",
       "      <td>cat__Effective To Date_2/9/11</td>\n",
       "      <td>0.005625</td>\n",
       "    </tr>\n",
       "    <tr>\n",
       "      <th>75</th>\n",
       "      <td>cat__Gender_M</td>\n",
       "      <td>0.005537</td>\n",
       "    </tr>\n",
       "    <tr>\n",
       "      <th>0</th>\n",
       "      <td>ord__Vehicle Size</td>\n",
       "      <td>0.005486</td>\n",
       "    </tr>\n",
       "    <tr>\n",
       "      <th>6</th>\n",
       "      <td>num__Number of Open Complaints</td>\n",
       "      <td>0.004562</td>\n",
       "    </tr>\n",
       "    <tr>\n",
       "      <th>1</th>\n",
       "      <td>ord__Coverage</td>\n",
       "      <td>0.004175</td>\n",
       "    </tr>\n",
       "    <tr>\n",
       "      <th>57</th>\n",
       "      <td>cat__Effective To Date_2/22/11</td>\n",
       "      <td>0.004138</td>\n",
       "    </tr>\n",
       "    <tr>\n",
       "      <th>36</th>\n",
       "      <td>cat__Effective To Date_1/31/11</td>\n",
       "      <td>0.004060</td>\n",
       "    </tr>\n",
       "    <tr>\n",
       "      <th>93</th>\n",
       "      <td>cat__Sales Channel_Branch</td>\n",
       "      <td>0.003872</td>\n",
       "    </tr>\n",
       "    <tr>\n",
       "      <th>30</th>\n",
       "      <td>cat__Effective To Date_1/26/11</td>\n",
       "      <td>0.003490</td>\n",
       "    </tr>\n",
       "    <tr>\n",
       "      <th>99</th>\n",
       "      <td>cat__Vehicle Class_Sports Car</td>\n",
       "      <td>0.003325</td>\n",
       "    </tr>\n",
       "    <tr>\n",
       "      <th>90</th>\n",
       "      <td>cat__Renew Offer Type_Offer2</td>\n",
       "      <td>0.003211</td>\n",
       "    </tr>\n",
       "    <tr>\n",
       "      <th>63</th>\n",
       "      <td>cat__Effective To Date_2/28/11</td>\n",
       "      <td>0.003061</td>\n",
       "    </tr>\n",
       "    <tr>\n",
       "      <th>24</th>\n",
       "      <td>cat__Effective To Date_1/20/11</td>\n",
       "      <td>0.003005</td>\n",
       "    </tr>\n",
       "    <tr>\n",
       "      <th>78</th>\n",
       "      <td>cat__Marital Status_Married</td>\n",
       "      <td>0.002933</td>\n",
       "    </tr>\n",
       "    <tr>\n",
       "      <th>12</th>\n",
       "      <td>cat__Response_Yes</td>\n",
       "      <td>0.002895</td>\n",
       "    </tr>\n",
       "    <tr>\n",
       "      <th>77</th>\n",
       "      <td>cat__Location Code_Urban</td>\n",
       "      <td>0.002725</td>\n",
       "    </tr>\n",
       "    <tr>\n",
       "      <th>84</th>\n",
       "      <td>cat__Policy_Personal L1</td>\n",
       "      <td>0.002670</td>\n",
       "    </tr>\n",
       "    <tr>\n",
       "      <th>76</th>\n",
       "      <td>cat__Location Code_Suburban</td>\n",
       "      <td>0.002592</td>\n",
       "    </tr>\n",
       "    <tr>\n",
       "      <th>44</th>\n",
       "      <td>cat__Effective To Date_2/10/11</td>\n",
       "      <td>0.002537</td>\n",
       "    </tr>\n",
       "    <tr>\n",
       "      <th>79</th>\n",
       "      <td>cat__Marital Status_Single</td>\n",
       "      <td>0.002428</td>\n",
       "    </tr>\n",
       "    <tr>\n",
       "      <th>17</th>\n",
       "      <td>cat__Effective To Date_1/14/11</td>\n",
       "      <td>0.002349</td>\n",
       "    </tr>\n",
       "    <tr>\n",
       "      <th>92</th>\n",
       "      <td>cat__Renew Offer Type_Offer4</td>\n",
       "      <td>0.002326</td>\n",
       "    </tr>\n",
       "    <tr>\n",
       "      <th>80</th>\n",
       "      <td>cat__Policy Type_Personal Auto</td>\n",
       "      <td>0.002321</td>\n",
       "    </tr>\n",
       "    <tr>\n",
       "      <th>65</th>\n",
       "      <td>cat__Effective To Date_2/4/11</td>\n",
       "      <td>0.002296</td>\n",
       "    </tr>\n",
       "    <tr>\n",
       "      <th>18</th>\n",
       "      <td>cat__Effective To Date_1/15/11</td>\n",
       "      <td>0.002291</td>\n",
       "    </tr>\n",
       "    <tr>\n",
       "      <th>9</th>\n",
       "      <td>cat__State_Nevada</td>\n",
       "      <td>0.002277</td>\n",
       "    </tr>\n",
       "    <tr>\n",
       "      <th>94</th>\n",
       "      <td>cat__Sales Channel_Call Center</td>\n",
       "      <td>0.002272</td>\n",
       "    </tr>\n",
       "    <tr>\n",
       "      <th>62</th>\n",
       "      <td>cat__Effective To Date_2/27/11</td>\n",
       "      <td>0.002246</td>\n",
       "    </tr>\n",
       "    <tr>\n",
       "      <th>72</th>\n",
       "      <td>cat__EmploymentStatus_Medical Leave</td>\n",
       "      <td>0.002225</td>\n",
       "    </tr>\n",
       "    <tr>\n",
       "      <th>86</th>\n",
       "      <td>cat__Policy_Personal L3</td>\n",
       "      <td>0.002205</td>\n",
       "    </tr>\n",
       "    <tr>\n",
       "      <th>85</th>\n",
       "      <td>cat__Policy_Personal L2</td>\n",
       "      <td>0.002168</td>\n",
       "    </tr>\n",
       "    <tr>\n",
       "      <th>69</th>\n",
       "      <td>cat__Effective To Date_2/8/11</td>\n",
       "      <td>0.002116</td>\n",
       "    </tr>\n",
       "    <tr>\n",
       "      <th>91</th>\n",
       "      <td>cat__Renew Offer Type_Offer3</td>\n",
       "      <td>0.002111</td>\n",
       "    </tr>\n",
       "    <tr>\n",
       "      <th>21</th>\n",
       "      <td>cat__Effective To Date_1/18/11</td>\n",
       "      <td>0.002074</td>\n",
       "    </tr>\n",
       "    <tr>\n",
       "      <th>59</th>\n",
       "      <td>cat__Effective To Date_2/24/11</td>\n",
       "      <td>0.002069</td>\n",
       "    </tr>\n",
       "    <tr>\n",
       "      <th>71</th>\n",
       "      <td>cat__EmploymentStatus_Employed</td>\n",
       "      <td>0.002053</td>\n",
       "    </tr>\n",
       "    <tr>\n",
       "      <th>49</th>\n",
       "      <td>cat__Effective To Date_2/15/11</td>\n",
       "      <td>0.002031</td>\n",
       "    </tr>\n",
       "    <tr>\n",
       "      <th>8</th>\n",
       "      <td>cat__State_California</td>\n",
       "      <td>0.001997</td>\n",
       "    </tr>\n",
       "    <tr>\n",
       "      <th>61</th>\n",
       "      <td>cat__Effective To Date_2/26/11</td>\n",
       "      <td>0.001986</td>\n",
       "    </tr>\n",
       "    <tr>\n",
       "      <th>95</th>\n",
       "      <td>cat__Sales Channel_Web</td>\n",
       "      <td>0.001970</td>\n",
       "    </tr>\n",
       "    <tr>\n",
       "      <th>11</th>\n",
       "      <td>cat__State_Washington</td>\n",
       "      <td>0.001722</td>\n",
       "    </tr>\n",
       "    <tr>\n",
       "      <th>41</th>\n",
       "      <td>cat__Effective To Date_1/8/11</td>\n",
       "      <td>0.001720</td>\n",
       "    </tr>\n",
       "    <tr>\n",
       "      <th>51</th>\n",
       "      <td>cat__Effective To Date_2/17/11</td>\n",
       "      <td>0.001710</td>\n",
       "    </tr>\n",
       "    <tr>\n",
       "      <th>100</th>\n",
       "      <td>cat__Vehicle Class_Two-Door Car</td>\n",
       "      <td>0.001678</td>\n",
       "    </tr>\n",
       "    <tr>\n",
       "      <th>10</th>\n",
       "      <td>cat__State_Oregon</td>\n",
       "      <td>0.001667</td>\n",
       "    </tr>\n",
       "  </tbody>\n",
       "</table>\n",
       "</div>"
      ],
      "text/plain": [
       "                                 Feature  Importance\n",
       "7                num__Number of Policies    0.508488\n",
       "4              num__Monthly Premium Auto    0.254589\n",
       "5     num__Months Since Policy Inception    0.027656\n",
       "3                            num__Income    0.026283\n",
       "2                         ord__Education    0.009258\n",
       "70         cat__Effective To Date_2/9/11    0.005625\n",
       "75                         cat__Gender_M    0.005537\n",
       "0                      ord__Vehicle Size    0.005486\n",
       "6         num__Number of Open Complaints    0.004562\n",
       "1                          ord__Coverage    0.004175\n",
       "57        cat__Effective To Date_2/22/11    0.004138\n",
       "36        cat__Effective To Date_1/31/11    0.004060\n",
       "93             cat__Sales Channel_Branch    0.003872\n",
       "30        cat__Effective To Date_1/26/11    0.003490\n",
       "99         cat__Vehicle Class_Sports Car    0.003325\n",
       "90          cat__Renew Offer Type_Offer2    0.003211\n",
       "63        cat__Effective To Date_2/28/11    0.003061\n",
       "24        cat__Effective To Date_1/20/11    0.003005\n",
       "78           cat__Marital Status_Married    0.002933\n",
       "12                     cat__Response_Yes    0.002895\n",
       "77              cat__Location Code_Urban    0.002725\n",
       "84               cat__Policy_Personal L1    0.002670\n",
       "76           cat__Location Code_Suburban    0.002592\n",
       "44        cat__Effective To Date_2/10/11    0.002537\n",
       "79            cat__Marital Status_Single    0.002428\n",
       "17        cat__Effective To Date_1/14/11    0.002349\n",
       "92          cat__Renew Offer Type_Offer4    0.002326\n",
       "80        cat__Policy Type_Personal Auto    0.002321\n",
       "65         cat__Effective To Date_2/4/11    0.002296\n",
       "18        cat__Effective To Date_1/15/11    0.002291\n",
       "9                      cat__State_Nevada    0.002277\n",
       "94        cat__Sales Channel_Call Center    0.002272\n",
       "62        cat__Effective To Date_2/27/11    0.002246\n",
       "72   cat__EmploymentStatus_Medical Leave    0.002225\n",
       "86               cat__Policy_Personal L3    0.002205\n",
       "85               cat__Policy_Personal L2    0.002168\n",
       "69         cat__Effective To Date_2/8/11    0.002116\n",
       "91          cat__Renew Offer Type_Offer3    0.002111\n",
       "21        cat__Effective To Date_1/18/11    0.002074\n",
       "59        cat__Effective To Date_2/24/11    0.002069\n",
       "71        cat__EmploymentStatus_Employed    0.002053\n",
       "49        cat__Effective To Date_2/15/11    0.002031\n",
       "8                  cat__State_California    0.001997\n",
       "61        cat__Effective To Date_2/26/11    0.001986\n",
       "95                cat__Sales Channel_Web    0.001970\n",
       "11                 cat__State_Washington    0.001722\n",
       "41         cat__Effective To Date_1/8/11    0.001720\n",
       "51        cat__Effective To Date_2/17/11    0.001710\n",
       "100      cat__Vehicle Class_Two-Door Car    0.001678\n",
       "10                     cat__State_Oregon    0.001667"
      ]
     },
     "execution_count": 126,
     "metadata": {},
     "output_type": "execute_result"
    }
   ],
   "source": [
    "# Get importance scores\n",
    "X_train_processed_ = preprocessor.fit_transform(X_train)\n",
    "importances = best_model.feature_importances_\n",
    "# Map them to feature names\n",
    "feature_names = preprocessor.get_feature_names_out()\n",
    "importance_df = pd.DataFrame({\n",
    "    'Feature': feature_names,\n",
    "    'Importance': importances\n",
    "}).sort_values(by='Importance', ascending=False)\n",
    "importance_df.head(50)"
   ]
  },
  {
   "cell_type": "markdown",
   "id": "f25f3d74-c715-4d25-b4c8-470d57bd021b",
   "metadata": {},
   "source": [
    "The Shap library puts Education as the most important explainer but when pulling importances from the model Education is ranked far lower. Just pulling importances from the model ranks the number of policies and monthly premium at the top of explainer. It's worth noting that whilst the correlation of number of policies vs actual LTV was low in our original analysis, it was the most important feature when pulling out the most important features from the best model."
   ]
  },
  {
   "cell_type": "markdown",
   "id": "6e6a2ec9-9344-4d8f-b827-5c1e83b3d2f4",
   "metadata": {},
   "source": [
    "# 7. Results"
   ]
  },
  {
   "cell_type": "markdown",
   "id": "6dad785a-bb73-479d-a791-3fefb4e0e7d8",
   "metadata": {},
   "source": [
    "After testing different models, and then optimising hyperparameters we have acheived a model with a RMSE 3,737 when using the kfold method and 2,153 when using a simple test train split method. This model was a Random Forest Regressor with parameters of max_depth\n",
    ": 15, max_features: None, min_samples_split: 2, n_estimators: 200 and all the other parameters were default ones. RMSE could be seen as the average deviation from the true value. If we had simply applied the average mean to every prediced LTV value we would have a RMSE of 7,051.87.  Creating the model improved the predicted LTV compared to just taking the mean average. When I looked at the RMSE on real LTVs of under 10,000 USD the RMSE fell to 1300.83. The predicted LTVs that were most out of kilter were the ones where actual LTVs were already large. I believe this is acceptable it would still be enough to signal to the Ads platforms that sales in these audience segments are higher than average. There are some over estimates in the area of 6,000 - 10,000. For those actual LTVs under 6,000 almost all the residuals between the acutal figures and the predicted ones are well below 1,000 or even 500."
   ]
  },
  {
   "cell_type": "markdown",
   "id": "35f8a745-cf05-46ad-b550-b6abf7cedabc",
   "metadata": {},
   "source": [
    "# 9. Conclusion"
   ]
  },
  {
   "cell_type": "markdown",
   "id": "2c759864-4e60-4424-9070-b9d0d768a4c4",
   "metadata": {},
   "source": [
    "The model we created would be usable to feed back as revenue values to Ads platforms however having run this project using this data I have realised it's not ideal to use for calculating lifetime values of customers when they transact. This data was most probably drawn from a marketing database and provided LTVs to date for customers. What we really wanted is \"first contact\" data based on data you'd receive when a transation goes through. For customers already on the database we want to predict the additional LTV value of the customer from that particular transaction. By feeding the whole LTV of existing customers every time there is a transation into Google we could be pushing Google's bidding algorithm astray and over estimating the value of some segments in their system. So in short we could end up with worse results measured by classic marketing metrics such as ROAS, CPA and Sales Volume. Therefore instead having of a dataset with each row being a customer, we'd preferably have a dataset with each row being a transaction and the LTV column being the LTV value that that transaction bought in, rather the LTV value so far of the customer.\n",
    "\n",
    "This project has served it's purpose as a way exploring the stages of a machine learning project. Thank you for reading."
   ]
  },
  {
   "cell_type": "markdown",
   "id": "2dea6c4d-2ea6-4e35-85fb-0a044e2d9a5f",
   "metadata": {},
   "source": [
    "# 8. Save Model"
   ]
  },
  {
   "cell_type": "code",
   "execution_count": 120,
   "id": "3fea3541-ccf1-49c7-81be-7280b870d57a",
   "metadata": {},
   "outputs": [
    {
     "name": "stdout",
     "output_type": "stream",
     "text": [
      "Saved successfully!\n"
     ]
    }
   ],
   "source": [
    "import pickle\n",
    "import joblib\n",
    "\n",
    "preprocessor_filename = \"preprocessor.pkl\"\n",
    "with open(preprocessor_filename, \"wb\") as file:\n",
    "    pickle.dump(preprocessor, file)\n",
    "\n",
    "# Save the trained model to a file so it can be used later for predictions\n",
    "model_filename = \"random_forest_best_model.pkl\"\n",
    "with open(model_filename, \"wb\") as file:\n",
    "    pickle.dump(best_model, file)\n",
    "\n",
    "print(\"Saved successfully!\")"
   ]
  },
  {
   "cell_type": "code",
   "execution_count": null,
   "id": "9e4adef1-931f-4cfe-a5c4-909108445290",
   "metadata": {},
   "outputs": [],
   "source": []
  }
 ],
 "metadata": {
  "kernelspec": {
   "display_name": "Python (GPU)",
   "language": "python",
   "name": "gpu_env"
  },
  "language_info": {
   "codemirror_mode": {
    "name": "ipython",
    "version": 3
   },
   "file_extension": ".py",
   "mimetype": "text/x-python",
   "name": "python",
   "nbconvert_exporter": "python",
   "pygments_lexer": "ipython3",
   "version": "3.12.7"
  }
 },
 "nbformat": 4,
 "nbformat_minor": 5
}
